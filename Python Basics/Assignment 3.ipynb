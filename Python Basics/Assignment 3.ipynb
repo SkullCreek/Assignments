{
 "cells": [
  {
   "cell_type": "markdown",
   "id": "d401d7a2",
   "metadata": {},
   "source": [
    "Ans1 . Functions are advantageous to have in our programs because we can use them again and again by calling them as many time as we can,Functuon only takes memory when it is called and after performing its task it gets return to the same place where it was called and memory is saved."
   ]
  },
  {
   "cell_type": "markdown",
   "id": "4745fd75",
   "metadata": {},
   "source": [
    "Ans2. Code in function runs when it is called."
   ]
  },
  {
   "cell_type": "markdown",
   "id": "b50b4080",
   "metadata": {},
   "source": [
    "Ans3. def is used to define a function. def function(parameters)"
   ]
  },
  {
   "cell_type": "markdown",
   "id": "96d13907",
   "metadata": {},
   "source": [
    "Ans4. A function is a block which contains a block of code and can be used again and again and also returns a value but never gets executed until and unless it is called. So, a function call is nothing but makes the code inside the function to get executed."
   ]
  },
  {
   "cell_type": "markdown",
   "id": "2ef7a940",
   "metadata": {},
   "source": [
    "Ans5. one global scope and can have many local scopes"
   ]
  },
  {
   "cell_type": "markdown",
   "id": "e1b1794f",
   "metadata": {},
   "source": [
    "Ans6. local variables are destroyed."
   ]
  },
  {
   "cell_type": "markdown",
   "id": "36415f10",
   "metadata": {},
   "source": [
    "Ans7. return value is a value which gets returned to the place where it was called after its execution. yes we can have a return value in a expression but inside a function."
   ]
  },
  {
   "cell_type": "markdown",
   "id": "f89ed98c",
   "metadata": {},
   "source": [
    "Ans8. undefined"
   ]
  },
  {
   "cell_type": "markdown",
   "id": "8f30e6f6",
   "metadata": {},
   "source": [
    "Ans9. we have to use the global keyword. global x"
   ]
  },
  {
   "cell_type": "markdown",
   "id": "e203ec9e",
   "metadata": {},
   "source": [
    "Ans10. NoneType"
   ]
  },
  {
   "cell_type": "markdown",
   "id": "72499b93",
   "metadata": {},
   "source": [
    "Ans11. module named areallyourpetsnamederic"
   ]
  },
  {
   "cell_type": "markdown",
   "id": "d1869455",
   "metadata": {},
   "source": [
    "Ans12. spam.bacon()"
   ]
  },
  {
   "cell_type": "markdown",
   "id": "ce48f2a4",
   "metadata": {},
   "source": [
    "Ans13. through exception handling we can through an exception to that perticular part of code"
   ]
  },
  {
   "cell_type": "markdown",
   "id": "7b36c79c",
   "metadata": {},
   "source": [
    "Ans14. The try block checks if the block of code have some errors. the error caught by try clause can be used to through exception by using except clause and lets us handle the error"
   ]
  },
  {
   "cell_type": "code",
   "execution_count": null,
   "id": "31fd5f42",
   "metadata": {},
   "outputs": [],
   "source": []
  }
 ],
 "metadata": {
  "kernelspec": {
   "display_name": "Python 3 (ipykernel)",
   "language": "python",
   "name": "python3"
  },
  "language_info": {
   "codemirror_mode": {
    "name": "ipython",
    "version": 3
   },
   "file_extension": ".py",
   "mimetype": "text/x-python",
   "name": "python",
   "nbconvert_exporter": "python",
   "pygments_lexer": "ipython3",
   "version": "3.9.12"
  }
 },
 "nbformat": 4,
 "nbformat_minor": 5
}
