{
 "cells": [
  {
   "cell_type": "markdown",
   "id": "975242ea",
   "metadata": {},
   "source": [
    "Ans1. '\\' this symbol is used for escape sequence. Some of the escape characters are \\n for new line, \\' for single Quote, \\\\ for backslash, \\r for carriage return, \\t for tab, \\b for backspace, \\f form feed, \\ooo ocatal value, \\xhh for hexvalue."
   ]
  },
  {
   "cell_type": "markdown",
   "id": "4cf82fa3",
   "metadata": {},
   "source": [
    "Ans2. n stands for new line and t stands for tab."
   ]
  },
  {
   "cell_type": "markdown",
   "id": "3bd75962",
   "metadata": {},
   "source": [
    "Ans3. we can use \\\\ for backslash in a string."
   ]
  },
  {
   "cell_type": "markdown",
   "id": "fd5dbcf8",
   "metadata": {},
   "source": [
    "Ans4. The single quote character is not a problem because we are using double for to assign the string."
   ]
  },
  {
   "cell_type": "markdown",
   "id": "fe55fb08",
   "metadata": {},
   "source": [
    "Ans5. we can print strings without adding a new line with end = \\<character\\>.\n",
    "    "
   ]
  },
  {
   "cell_type": "markdown",
   "id": "71e37d26",
   "metadata": {},
   "source": [
    "Ans6. 'e','Hello','Hello','lo, world!'"
   ]
  },
  {
   "cell_type": "markdown",
   "id": "fe37c0f1",
   "metadata": {},
   "source": [
    "Ans7. 'HELLO', True, 'hello'"
   ]
  },
  {
   "cell_type": "markdown",
   "id": "2771ccc0",
   "metadata": {},
   "source": [
    "Ans8. ['Remember,', 'remember,', 'the', 'fifth', 'of', 'July.'] and 'There-can-only-one.'"
   ]
  },
  {
   "cell_type": "markdown",
   "id": "9a011fd0",
   "metadata": {},
   "source": [
    "Ans9. rjust(), ljust(), center()."
   ]
  },
  {
   "cell_type": "markdown",
   "id": "50978946",
   "metadata": {},
   "source": [
    "Ans10. strip(), lstrip(), rstrip() is nto remove whitespace characters from start or end"
   ]
  }
 ],
 "metadata": {
  "kernelspec": {
   "display_name": "Python 3 (ipykernel)",
   "language": "python",
   "name": "python3"
  },
  "language_info": {
   "codemirror_mode": {
    "name": "ipython",
    "version": 3
   },
   "file_extension": ".py",
   "mimetype": "text/x-python",
   "name": "python",
   "nbconvert_exporter": "python",
   "pygments_lexer": "ipython3",
   "version": "3.9.12"
  }
 },
 "nbformat": 4,
 "nbformat_minor": 5
}
