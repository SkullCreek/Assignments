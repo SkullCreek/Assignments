{
 "cells": [
  {
   "cell_type": "code",
   "execution_count": 3,
   "id": "7dc92901",
   "metadata": {},
   "outputs": [
    {
     "name": "stdout",
     "output_type": "stream",
     "text": [
      "The sum of array is 21\n"
     ]
    }
   ],
   "source": [
    "# Ans1.\n",
    "class sum:\n",
    "    def __init__(self,l):\n",
    "        self.l = l\n",
    "    def sum_of_array(self):\n",
    "        sum = 0\n",
    "        for i in self.l:\n",
    "            sum += i\n",
    "        return sum\n",
    "\n",
    "l = [1,2,3,4,5,6]\n",
    "array_sum = sum(l)\n",
    "print(\"The sum of array is\",array_sum.sum_of_array())"
   ]
  },
  {
   "cell_type": "code",
   "execution_count": 6,
   "id": "2b4a5943",
   "metadata": {},
   "outputs": [
    {
     "name": "stdout",
     "output_type": "stream",
     "text": [
      "The sum of array is 10\n"
     ]
    }
   ],
   "source": [
    "# Ans2.\n",
    "class largest:\n",
    "    def __init__(self,l):\n",
    "        self.l = l\n",
    "    def largest_of_array(self):\n",
    "        largest = 0\n",
    "        for i in self.l:\n",
    "            if i > largest:\n",
    "                largest = i\n",
    "        return largest\n",
    "\n",
    "l = [1,2,3,10,5,6]\n",
    "array_largest = largest(l)\n",
    "print(\"The sum of array is\",array_largest.largest_of_array())"
   ]
  },
  {
   "cell_type": "code",
   "execution_count": 13,
   "id": "ca7537f5",
   "metadata": {},
   "outputs": [
    {
     "name": "stdout",
     "output_type": "stream",
     "text": [
      "[4, 5, 6, 1, 2, 3]\n"
     ]
    }
   ],
   "source": [
    "# Ans3.\n",
    "class rotation:\n",
    "    def block_swap(self,l,d,n):\n",
    "        if d == 0 or d == n:\n",
    "            return\n",
    "        if d > n:\n",
    "            d = d%n\n",
    "        if n-d == d:\n",
    "            self.swap(l,0,n-d,d)\n",
    "            return\n",
    "        if d < n-d:\n",
    "            self.swap(l,0,n-d,d)\n",
    "            self.block_swap(l,d,n-d)\n",
    "        else:\n",
    "            self.swap(l,0,d,n-d)\n",
    "            self.block_swap(l,2*d-n,d)\n",
    "    def swap(self,l,si,fi,d):\n",
    "        for i in range(d):\n",
    "            temp = l[fi + i]\n",
    "            l[fi + i] = l[si+i]\n",
    "            l[si+i] = temp\n",
    "l = [1,2,3,4,5,6]\n",
    "r = rotation()\n",
    "r.block_swap(l,2,6)\n",
    "print(l)"
   ]
  },
  {
   "cell_type": "code",
   "execution_count": 20,
   "id": "4f5b06ca",
   "metadata": {},
   "outputs": [
    {
     "name": "stdout",
     "output_type": "stream",
     "text": [
      "[4, 5, 6, 1, 2, 3]\n"
     ]
    }
   ],
   "source": [
    "# Ans4.\n",
    "class rotation:\n",
    "    def block_swap(self,l,d,n):\n",
    "        if d == 0 or d == n:\n",
    "            return\n",
    "        if d > n:\n",
    "            d = d%n\n",
    "        if n-d == d:\n",
    "            self.swap(l,0,n-d,d)\n",
    "            return\n",
    "        if d < n-d:\n",
    "            self.swap(l,0,n-d,d)\n",
    "            self.block_swap(l,d,n-d)\n",
    "        else:\n",
    "            self.swap(l,0,d,n-d)\n",
    "            self.block_swap(l,2*d-n,d)\n",
    "    def swap(self,l,si,fi,d):\n",
    "        for i in range(d):\n",
    "            temp = l[fi + i]\n",
    "            l[fi + i] = l[si+i]\n",
    "            l[si+i] = temp\n",
    "l = [1,2,3,4,5,6]\n",
    "n= int(len(l)/2)\n",
    "r = rotation()\n",
    "r.block_swap(l,n,6)\n",
    "print(l)"
   ]
  },
  {
   "cell_type": "code",
   "execution_count": 21,
   "id": "ddc5d931",
   "metadata": {},
   "outputs": [
    {
     "name": "stdout",
     "output_type": "stream",
     "text": [
      "True\n"
     ]
    }
   ],
   "source": [
    "# Ans5.\n",
    "def isMonotonic(A):\n",
    "    x, y = [], []\n",
    "    x.extend(A)\n",
    "    y.extend(A)\n",
    "    x.sort()\n",
    "    y.sort(reverse=True)\n",
    "    if(x == A or y == A):\n",
    "        return True\n",
    "    return False\n",
    "A = [6, 5, 4, 4]\n",
    "\n",
    "print(isMonotonic(A))"
   ]
  },
  {
   "cell_type": "code",
   "execution_count": null,
   "id": "6c5fcc95",
   "metadata": {},
   "outputs": [],
   "source": []
  }
 ],
 "metadata": {
  "kernelspec": {
   "display_name": "Python 3 (ipykernel)",
   "language": "python",
   "name": "python3"
  },
  "language_info": {
   "codemirror_mode": {
    "name": "ipython",
    "version": 3
   },
   "file_extension": ".py",
   "mimetype": "text/x-python",
   "name": "python",
   "nbconvert_exporter": "python",
   "pygments_lexer": "ipython3",
   "version": "3.9.12"
  }
 },
 "nbformat": 4,
 "nbformat_minor": 5
}
