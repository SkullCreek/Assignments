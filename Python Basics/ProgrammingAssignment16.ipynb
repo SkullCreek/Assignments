{
 "cells": [
  {
   "cell_type": "code",
   "execution_count": 3,
   "id": "766653c0",
   "metadata": {},
   "outputs": [
    {
     "name": "stdout",
     "output_type": "stream",
     "text": [
      "in... in... incredible?\n",
      "en... en... enthusiastic?\n",
      "ou... ou... outstanding?\n"
     ]
    }
   ],
   "source": [
    "# Ans1.\n",
    "def stutter(inp):\n",
    "    print(\"{}... {}... {}?\".format(inp[:2],inp[:2],inp))\n",
    "stutter(\"incredible\")\n",
    "stutter(\"enthusiastic\")\n",
    "stutter(\"outstanding\")"
   ]
  },
  {
   "cell_type": "code",
   "execution_count": 11,
   "id": "8ffafc95",
   "metadata": {},
   "outputs": [
    {
     "name": "stdout",
     "output_type": "stream",
     "text": [
      "57.3\n",
      "1145.9\n",
      "2864.8\n"
     ]
    }
   ],
   "source": [
    "# Ans2.\n",
    "import math\n",
    "def radians_to_degrees(num):\n",
    "    print(round(num*180/math.pi,1))\n",
    "radians_to_degrees(1)\n",
    "radians_to_degrees(20)\n",
    "radians_to_degrees(50)"
   ]
  },
  {
   "cell_type": "code",
   "execution_count": 14,
   "id": "89996b41",
   "metadata": {},
   "outputs": [
    {
     "name": "stdout",
     "output_type": "stream",
     "text": [
      "True\n",
      "False\n",
      "True\n"
     ]
    }
   ],
   "source": [
    "# Ans3.\n",
    "def is_curzon(num):\n",
    "    a= 2**num + 1\n",
    "    b= 2*num + 1\n",
    "    if a%b == 0:\n",
    "        return True\n",
    "    return False\n",
    "print(is_curzon(5))\n",
    "print(is_curzon(10))\n",
    "print(is_curzon(14))"
   ]
  },
  {
   "cell_type": "code",
   "execution_count": 17,
   "id": "ba5441f4",
   "metadata": {},
   "outputs": [
    {
     "name": "stdout",
     "output_type": "stream",
     "text": [
      "2.6\n",
      "10.4\n",
      "23.4\n"
     ]
    }
   ],
   "source": [
    "# Ans4.\n",
    "def area_of_hexagon(s):\n",
    "    print(round(3*math.sqrt(3)*s*s/2,1))\n",
    "area_of_hexagon(1)\n",
    "area_of_hexagon(2)\n",
    "area_of_hexagon(3)"
   ]
  },
  {
   "cell_type": "code",
   "execution_count": 25,
   "id": "5c1db339",
   "metadata": {},
   "outputs": [
    {
     "name": "stdout",
     "output_type": "stream",
     "text": [
      "1010"
     ]
    }
   ],
   "source": [
    "# Ans5.\n",
    "def decimalToBinary(ip_val):\n",
    "    if ip_val >= 2:\n",
    "        decimalToBinary(ip_val // 2)\n",
    "    print(ip_val % 2, end = '')\n",
    "decimalToBinary(10)"
   ]
  },
  {
   "cell_type": "code",
   "execution_count": null,
   "id": "69dcb60f",
   "metadata": {},
   "outputs": [],
   "source": []
  }
 ],
 "metadata": {
  "kernelspec": {
   "display_name": "Python 3 (ipykernel)",
   "language": "python",
   "name": "python3"
  },
  "language_info": {
   "codemirror_mode": {
    "name": "ipython",
    "version": 3
   },
   "file_extension": ".py",
   "mimetype": "text/x-python",
   "name": "python",
   "nbconvert_exporter": "python",
   "pygments_lexer": "ipython3",
   "version": "3.9.12"
  }
 },
 "nbformat": 4,
 "nbformat_minor": 5
}
