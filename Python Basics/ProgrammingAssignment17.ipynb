{
 "cells": [
  {
   "cell_type": "code",
   "execution_count": 9,
   "id": "be7c1947",
   "metadata": {},
   "outputs": [
    {
     "name": "stdout",
     "output_type": "stream",
     "text": [
      "No number between 1 and 10 can be evenly divided by 20.\n",
      "30\n",
      "18\n"
     ]
    }
   ],
   "source": [
    "# Ans1.\n",
    "def fun(a,b,c):\n",
    "    sum = 0\n",
    "    for i in range(a,b+1):\n",
    "        if i%c == 0:\n",
    "            sum += i\n",
    "    if sum == 0:\n",
    "        return \"No number between {} and {} can be evenly divided by {}.\".format(a,b,c)\n",
    "    return sum\n",
    "\n",
    "print(fun(1,10,20))\n",
    "print(fun(1,10,2))\n",
    "print(fun(1,10,3))"
   ]
  },
  {
   "cell_type": "code",
   "execution_count": 12,
   "id": "d54f7724",
   "metadata": {},
   "outputs": [
    {
     "name": "stdout",
     "output_type": "stream",
     "text": [
      "True\n",
      "False\n",
      "True\n"
     ]
    }
   ],
   "source": [
    "# Ans2.\n",
    "def check(s):\n",
    "    regex=eval(s)\n",
    "    if regex:\n",
    "        return True\n",
    "    else:\n",
    "        return False \n",
    "\n",
    "print(check(\"3 < 7 < 11\"))\n",
    "print(check(\"13 > 44 > 33 > 1\"))\n",
    "print(check(\"1 < 2 < 6 < 9 > 3\"))"
   ]
  },
  {
   "cell_type": "code",
   "execution_count": 15,
   "id": "b23b315b",
   "metadata": {},
   "outputs": [
    {
     "name": "stdout",
     "output_type": "stream",
     "text": [
      "Enter a String: i am darpan\n",
      "Enter a character to replace all vowels with it: z\n",
      "\n",
      "Original String = i am darpan\n",
      "New String = z zm dzrpzn\n"
     ]
    }
   ],
   "source": [
    "# Ans3.\n",
    "print(\"Enter a String: \", end=\"\")\n",
    "str = input()\n",
    "\n",
    "print(\"Enter a character to replace all vowels with it: \", end=\"\")\n",
    "char = input()\n",
    "\n",
    "replace_vowels(str, char)\n",
    "\n",
    "def replace_vowels(str,char): \n",
    "    newstr = \"\"\n",
    "    vowels = ['a', 'e', 'i', 'o', 'u', 'A', 'E', 'I', 'O', 'U']\n",
    "\n",
    "    for i in range(len(str)):\n",
    "        if str[i] in vowels:\n",
    "            newstr = newstr + char\n",
    "        else:\n",
    "            newstr = newstr + str[i]\n",
    "    print(\"\\nOriginal String =\", str)\n",
    "    print(\"New String =\", newstr)"
   ]
  },
  {
   "cell_type": "code",
   "execution_count": 16,
   "id": "c969af51",
   "metadata": {},
   "outputs": [
    {
     "data": {
      "text/plain": [
       "120"
      ]
     },
     "execution_count": 16,
     "metadata": {},
     "output_type": "execute_result"
    }
   ],
   "source": [
    "# Ans4.\n",
    "def factorial(n):\n",
    "    if n == 0:\n",
    "        return 1\n",
    "    else:\n",
    "        return n * factorial(n-1)\n",
    "factorial(5)"
   ]
  },
  {
   "cell_type": "code",
   "execution_count": 20,
   "id": "317a4434",
   "metadata": {},
   "outputs": [
    {
     "name": "stdout",
     "output_type": "stream",
     "text": [
      "4\n"
     ]
    }
   ],
   "source": [
    "# Ans5.\n",
    "def Hamming_Distance(a,b):\n",
    "    count = 0\n",
    "    for i in range(len(a)):\n",
    "        if a[i] != b[i]:\n",
    "            count += 1\n",
    "    print(count)\n",
    "Hamming_Distance(\"abcdef\",\"abdefs\")"
   ]
  },
  {
   "cell_type": "code",
   "execution_count": null,
   "id": "37344826",
   "metadata": {},
   "outputs": [],
   "source": []
  }
 ],
 "metadata": {
  "kernelspec": {
   "display_name": "Python 3 (ipykernel)",
   "language": "python",
   "name": "python3"
  },
  "language_info": {
   "codemirror_mode": {
    "name": "ipython",
    "version": 3
   },
   "file_extension": ".py",
   "mimetype": "text/x-python",
   "name": "python",
   "nbconvert_exporter": "python",
   "pygments_lexer": "ipython3",
   "version": "3.9.12"
  }
 },
 "nbformat": 4,
 "nbformat_minor": 5
}
