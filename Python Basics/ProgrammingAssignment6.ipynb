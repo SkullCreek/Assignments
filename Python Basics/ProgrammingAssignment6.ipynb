{
 "cells": [
  {
   "cell_type": "code",
   "execution_count": 4,
   "id": "e3dd10f1",
   "metadata": {},
   "outputs": [
    {
     "name": "stdout",
     "output_type": "stream",
     "text": [
      "1 1 2 3 5 8 13 21 34 55 89 "
     ]
    }
   ],
   "source": [
    "# Ans1\n",
    "def Fibonacci(a,b):\n",
    "    if b > 100:\n",
    "        return\n",
    "    print(b,end=\" \")\n",
    "    Fibonacci(b,b+a)\n",
    "Fibonacci(0,1)"
   ]
  },
  {
   "cell_type": "code",
   "execution_count": 10,
   "id": "8221a955",
   "metadata": {},
   "outputs": [
    {
     "data": {
      "text/plain": [
       "3628800"
      ]
     },
     "execution_count": 10,
     "metadata": {},
     "output_type": "execute_result"
    }
   ],
   "source": [
    "# Ans2\n",
    "def recur_factorial(n):\n",
    "    if n == 1:\n",
    "        return n\n",
    "    else:\n",
    "        return n*recur_factorial(n-1)\n",
    "\n",
    "recur_factorial(10)"
   ]
  },
  {
   "cell_type": "code",
   "execution_count": 22,
   "id": "fd544731",
   "metadata": {},
   "outputs": [
    {
     "data": {
      "text/plain": [
       "25.2993759487266"
      ]
     },
     "execution_count": 22,
     "metadata": {},
     "output_type": "execute_result"
    }
   ],
   "source": [
    "# Ans3\n",
    "def BMI(h,w):\n",
    "    return w/(h*h)\n",
    "BMI(1.54,60)"
   ]
  },
  {
   "cell_type": "code",
   "execution_count": 23,
   "id": "9bd35506",
   "metadata": {},
   "outputs": [
    {
     "name": "stdout",
     "output_type": "stream",
     "text": [
      "Log value:  0.6931471805599453\n"
     ]
    }
   ],
   "source": [
    "# Ans4\n",
    "import math   \n",
    "\n",
    "print(\"Log value: \", math.log(2))"
   ]
  },
  {
   "cell_type": "code",
   "execution_count": 24,
   "id": "8a43df4e",
   "metadata": {},
   "outputs": [
    {
     "name": "stdout",
     "output_type": "stream",
     "text": [
      "225\n"
     ]
    }
   ],
   "source": [
    "# Ans5\n",
    "n=5\n",
    "s=0\n",
    "for i in range(1,n+1):\n",
    "    s=s+pow(i,3)\n",
    "print(s)  "
   ]
  },
  {
   "cell_type": "code",
   "execution_count": null,
   "id": "30e9ad26",
   "metadata": {},
   "outputs": [],
   "source": []
  }
 ],
 "metadata": {
  "kernelspec": {
   "display_name": "Python 3 (ipykernel)",
   "language": "python",
   "name": "python3"
  },
  "language_info": {
   "codemirror_mode": {
    "name": "ipython",
    "version": 3
   },
   "file_extension": ".py",
   "mimetype": "text/x-python",
   "name": "python",
   "nbconvert_exporter": "python",
   "pygments_lexer": "ipython3",
   "version": "3.9.12"
  }
 },
 "nbformat": 4,
 "nbformat_minor": 5
}
