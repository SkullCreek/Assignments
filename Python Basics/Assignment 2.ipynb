{
 "cells": [
  {
   "cell_type": "markdown",
   "id": "f2d3173e",
   "metadata": {},
   "source": [
    "Python Basics Assignment 2"
   ]
  },
  {
   "cell_type": "markdown",
   "id": "dca4afef",
   "metadata": {},
   "source": [
    "Ans1. 0 and 1. 0 stands for False and 1 Stands for True."
   ]
  },
  {
   "cell_type": "code",
   "execution_count": 4,
   "id": "ba250be5",
   "metadata": {},
   "outputs": [
    {
     "data": {
      "text/plain": [
       "True"
      ]
     },
     "execution_count": 4,
     "metadata": {},
     "output_type": "execute_result"
    }
   ],
   "source": [
    "a = True\n",
    "a"
   ]
  },
  {
   "cell_type": "markdown",
   "id": "f83364ce",
   "metadata": {},
   "source": [
    "Ans2. AND, OR and NOT"
   ]
  },
  {
   "cell_type": "markdown",
   "id": "def0570f",
   "metadata": {},
   "source": [
    "Ans3. and = [\"000\",\"010\",\"100\",\"111\"], or = [\"000\",\"011\",\"101\",\"111\"], not = [\"01\",\"10\"] it is evaluating \"a and b\", \"a or b\", \"not a\". where the first cahracter represent if a is true or false, second character represents if b is true or false and 3rd character is the resultant of both."
   ]
  },
  {
   "cell_type": "markdown",
   "id": "2f10bdab",
   "metadata": {},
   "source": [
    "Ans4."
   ]
  },
  {
   "cell_type": "code",
   "execution_count": 6,
   "id": "5bf9d89f",
   "metadata": {},
   "outputs": [
    {
     "data": {
      "text/plain": [
       "False"
      ]
     },
     "execution_count": 6,
     "metadata": {},
     "output_type": "execute_result"
    }
   ],
   "source": [
    "(5>4) and (3==5)"
   ]
  },
  {
   "cell_type": "code",
   "execution_count": 7,
   "id": "3478d661",
   "metadata": {},
   "outputs": [
    {
     "data": {
      "text/plain": [
       "False"
      ]
     },
     "execution_count": 7,
     "metadata": {},
     "output_type": "execute_result"
    }
   ],
   "source": [
    "not(5>4)"
   ]
  },
  {
   "cell_type": "code",
   "execution_count": 8,
   "id": "fba0d9a5",
   "metadata": {},
   "outputs": [
    {
     "data": {
      "text/plain": [
       "True"
      ]
     },
     "execution_count": 8,
     "metadata": {},
     "output_type": "execute_result"
    }
   ],
   "source": [
    "(5>4) or (3==5)"
   ]
  },
  {
   "cell_type": "code",
   "execution_count": 9,
   "id": "a9fe1bcb",
   "metadata": {},
   "outputs": [
    {
     "data": {
      "text/plain": [
       "False"
      ]
     },
     "execution_count": 9,
     "metadata": {},
     "output_type": "execute_result"
    }
   ],
   "source": [
    "not((5>4) or (3==5))"
   ]
  },
  {
   "cell_type": "code",
   "execution_count": 10,
   "id": "83b81ceb",
   "metadata": {},
   "outputs": [
    {
     "data": {
      "text/plain": [
       "False"
      ]
     },
     "execution_count": 10,
     "metadata": {},
     "output_type": "execute_result"
    }
   ],
   "source": [
    "(True and True) and (True == False)"
   ]
  },
  {
   "cell_type": "code",
   "execution_count": 11,
   "id": "e9596016",
   "metadata": {},
   "outputs": [
    {
     "data": {
      "text/plain": [
       "True"
      ]
     },
     "execution_count": 11,
     "metadata": {},
     "output_type": "execute_result"
    }
   ],
   "source": [
    "(not False) or (not True)"
   ]
  },
  {
   "cell_type": "markdown",
   "id": "b0842f52",
   "metadata": {},
   "source": [
    "Ans5. The six comparison operators are ==, <=, >=, <, >, !="
   ]
  },
  {
   "cell_type": "markdown",
   "id": "a269554c",
   "metadata": {},
   "source": [
    "Ans6. equal operator checks if both the value or variable in LHS and RHS are equal or not, It returns a boolean value of either True or False whereas assignment operators are use to assign values to variables. = is a assignment operator while == is a equal operator. A condistion is something which gives True or false as output. ex :- 10 == 20"
   ]
  },
  {
   "cell_type": "code",
   "execution_count": 13,
   "id": "55708139",
   "metadata": {},
   "outputs": [
    {
     "data": {
      "text/plain": [
       "False"
      ]
     },
     "execution_count": 13,
     "metadata": {},
     "output_type": "execute_result"
    }
   ],
   "source": [
    "10 == 20"
   ]
  },
  {
   "cell_type": "markdown",
   "id": "b6df437e",
   "metadata": {},
   "source": [
    "Ans7. Two if blocks and one else block"
   ]
  },
  {
   "cell_type": "code",
   "execution_count": 16,
   "id": "37e55ebc",
   "metadata": {},
   "outputs": [
    {
     "name": "stdout",
     "output_type": "stream",
     "text": [
      "ham\n",
      "spam\n",
      "spam\n"
     ]
    }
   ],
   "source": [
    "spam = 0\n",
    "if spam == 10 :\n",
    "    print(\"eggs\")\n",
    "if spam > 5 :\n",
    "    print(\"bacon\")\n",
    "else:\n",
    "    print(\"ham\")\n",
    "print(\"spam\")\n",
    "print(\"spam\")"
   ]
  },
  {
   "cell_type": "markdown",
   "id": "e5671355",
   "metadata": {},
   "source": [
    "Ans8. "
   ]
  },
  {
   "cell_type": "code",
   "execution_count": 21,
   "id": "97d51055",
   "metadata": {},
   "outputs": [
    {
     "name": "stdout",
     "output_type": "stream",
     "text": [
      "Howdy\n"
     ]
    }
   ],
   "source": [
    "spam = 2\n",
    "if spam == 1 : \n",
    "    print('Hello')\n",
    "elif spam == 2 :\n",
    "    print('Howdy')\n",
    "else : \n",
    "    print(\"Greetings!\")"
   ]
  },
  {
   "cell_type": "markdown",
   "id": "f55c0352",
   "metadata": {},
   "source": [
    "Ans9. CTRL + C"
   ]
  },
  {
   "cell_type": "markdown",
   "id": "5fce62e7",
   "metadata": {},
   "source": [
    "Ans10. break statement stops the iteration, gets out of the loop and make the next line of code to run. Continue statement skips the iteration for a single iteration and performs the next one."
   ]
  },
  {
   "cell_type": "markdown",
   "id": "4620affb",
   "metadata": {},
   "source": [
    "Ans11. range(10) it means a sequence of numbers from 0 to 10-1\n",
    "range(0,10) it means a sequence of numbers from 0 to 10-1\n",
    "range(0,10) it means a sequence of numbers from 0 to 10-1 with a jump of 1"
   ]
  },
  {
   "cell_type": "markdown",
   "id": "32ebb7a9",
   "metadata": {},
   "source": [
    "Ans12. "
   ]
  },
  {
   "cell_type": "code",
   "execution_count": 16,
   "id": "5fa57eda",
   "metadata": {},
   "outputs": [
    {
     "name": "stdout",
     "output_type": "stream",
     "text": [
      "1 2 3 4 5 6 7 8 9 10 "
     ]
    }
   ],
   "source": [
    "for i in range(10):\n",
    "    print(i+1, end=\" \")"
   ]
  },
  {
   "cell_type": "code",
   "execution_count": 17,
   "id": "bcccc558",
   "metadata": {},
   "outputs": [
    {
     "name": "stdout",
     "output_type": "stream",
     "text": [
      "1 2 3 4 5 6 7 8 9 10 "
     ]
    }
   ],
   "source": [
    "j = 0\n",
    "while j != 10 :\n",
    "    print(j+1,end = \" \")\n",
    "    j += 1"
   ]
  },
  {
   "cell_type": "markdown",
   "id": "b9cb400c",
   "metadata": {},
   "source": [
    "Ans13. spam.bacon()"
   ]
  }
 ],
 "metadata": {
  "kernelspec": {
   "display_name": "Python 3 (ipykernel)",
   "language": "python",
   "name": "python3"
  },
  "language_info": {
   "codemirror_mode": {
    "name": "ipython",
    "version": 3
   },
   "file_extension": ".py",
   "mimetype": "text/x-python",
   "name": "python",
   "nbconvert_exporter": "python",
   "pygments_lexer": "ipython3",
   "version": "3.9.12"
  }
 },
 "nbformat": 4,
 "nbformat_minor": 5
}
