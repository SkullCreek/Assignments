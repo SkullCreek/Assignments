{
 "cells": [
  {
   "cell_type": "code",
   "execution_count": 37,
   "id": "f9610f99",
   "metadata": {},
   "outputs": [
    {
     "data": {
      "text/plain": [
       "'0,5,10,15,20'"
      ]
     },
     "execution_count": 37,
     "metadata": {},
     "output_type": "execute_result"
    }
   ],
   "source": [
    "# Ans1.\n",
    "def div5(n):\n",
    "    for i in range(1,n):\n",
    "        if i%5 == 0:\n",
    "            yield i\n",
    "strd =\"0\"\n",
    "for i in div5(21):\n",
    "    strd = strd + \" \" + str(i)\n",
    "strd.replace(' ', ',')"
   ]
  },
  {
   "cell_type": "code",
   "execution_count": 39,
   "id": "41ca0b46",
   "metadata": {},
   "outputs": [
    {
     "data": {
      "text/plain": [
       "'2,4,6,8,10,12,14,16,18,20'"
      ]
     },
     "execution_count": 39,
     "metadata": {},
     "output_type": "execute_result"
    }
   ],
   "source": [
    "# Ans2.\n",
    "def even(n):\n",
    "    for i in range(3,n):\n",
    "        if i%2 == 0:\n",
    "            yield i\n",
    "strd =\"2\"\n",
    "for i in even(21):\n",
    "    strd = strd + \" \" + str(i)\n",
    "strd.replace(' ', ',')"
   ]
  },
  {
   "cell_type": "code",
   "execution_count": 48,
   "id": "3723e048",
   "metadata": {},
   "outputs": [
    {
     "name": "stdout",
     "output_type": "stream",
     "text": [
      "10\n",
      "0,1,1,2,3,5,8,13,21,34,55\n"
     ]
    }
   ],
   "source": [
    "# Ans3.\n",
    "def f(n):\n",
    "    if n == 0: return 0\n",
    "    elif n == 1: return 1\n",
    "    else: return f(n-1)+f(n-2)\n",
    "\n",
    "n=int(input())\n",
    "values = [str(f(x)) for x in range(0, n+1)]\n",
    "print(\",\".join(values))"
   ]
  },
  {
   "cell_type": "code",
   "execution_count": 50,
   "id": "239fc151",
   "metadata": {},
   "outputs": [
    {
     "name": "stdout",
     "output_type": "stream",
     "text": [
      "darpan@gmail.com\n"
     ]
    },
    {
     "data": {
      "text/plain": [
       "'darpan'"
      ]
     },
     "execution_count": 50,
     "metadata": {},
     "output_type": "execute_result"
    }
   ],
   "source": [
    "# Ans4.\n",
    "inp = input()\n",
    "inp.split('@')[0]"
   ]
  },
  {
   "cell_type": "code",
   "execution_count": 54,
   "id": "04c65f66",
   "metadata": {},
   "outputs": [
    {
     "name": "stdout",
     "output_type": "stream",
     "text": [
      "9\n"
     ]
    }
   ],
   "source": [
    "# Ans5.\n",
    "class Shape(object):\n",
    "    def __init__(self):\n",
    "        pass\n",
    "\n",
    "    def area(self):\n",
    "        return 0\n",
    "\n",
    "class Square(Shape):\n",
    "    def __init__(self, l):\n",
    "        Shape.__init__(self)\n",
    "        self.length = l\n",
    "\n",
    "    def area(self):\n",
    "        return self.length*self.length\n",
    "\n",
    "Square= Square(3)\n",
    "print(Square.area())"
   ]
  },
  {
   "cell_type": "code",
   "execution_count": null,
   "id": "e7260f25",
   "metadata": {},
   "outputs": [],
   "source": []
  }
 ],
 "metadata": {
  "kernelspec": {
   "display_name": "Python 3 (ipykernel)",
   "language": "python",
   "name": "python3"
  },
  "language_info": {
   "codemirror_mode": {
    "name": "ipython",
    "version": 3
   },
   "file_extension": ".py",
   "mimetype": "text/x-python",
   "name": "python",
   "nbconvert_exporter": "python",
   "pygments_lexer": "ipython3",
   "version": "3.9.12"
  }
 },
 "nbformat": 4,
 "nbformat_minor": 5
}
