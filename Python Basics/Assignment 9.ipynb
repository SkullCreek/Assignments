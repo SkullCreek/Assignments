{
 "cells": [
  {
   "cell_type": "markdown",
   "id": "1c59e72e",
   "metadata": {},
   "source": [
    "Ans1.  A relative path in Python is a path that describes the location of a directory relative to the entry point where you run the Python script. it generally have '.' and '..' in it, for example ./darpan or ../darpan"
   ]
  },
  {
   "cell_type": "markdown",
   "id": "1f5c4cda",
   "metadata": {},
   "source": [
    "Ans2. An absolute path start from the home directory of the computer and ends at the location we write after / or ./ or ../"
   ]
  },
  {
   "cell_type": "markdown",
   "id": "14fafdf3",
   "metadata": {},
   "source": [
    "Ans3. getcwd() allows us to see what is there in current directory getchdir() allows us to change directory."
   ]
  },
  {
   "cell_type": "markdown",
   "id": "208da7ce",
   "metadata": {},
   "source": [
    "Ans4. .. is link to parent directory, . is link to current directory"
   ]
  },
  {
   "cell_type": "markdown",
   "id": "c3586474",
   "metadata": {},
   "source": [
    "Ans5. C:\\bacon\\eggs is the dir name, while spam. txt is the base name."
   ]
  },
  {
   "cell_type": "markdown",
   "id": "aa8c00cd",
   "metadata": {},
   "source": [
    "Ans6. 'r' which stands for read, 'w' which stands for write, 'a' which stand for append."
   ]
  },
  {
   "cell_type": "markdown",
   "id": "4d399b79",
   "metadata": {},
   "source": [
    "Ans7. if file is already there then we can write in it but if it is not there then it will be created."
   ]
  },
  {
   "cell_type": "markdown",
   "id": "9ce8b199",
   "metadata": {},
   "source": [
    "Ans8. The read() will read the whole file at once and then print out the first characters that take up as many bytes as you specify in the parenthesis whereas readline() that will read and print out only the first characters that take up as many bytes as you specify in the parenthesis."
   ]
  },
  {
   "cell_type": "markdown",
   "id": "05bf40ce",
   "metadata": {},
   "source": [
    "Ans9. A shelf value resembles a dictionary value."
   ]
  },
  {
   "cell_type": "code",
   "execution_count": null,
   "id": "eaa41b4c",
   "metadata": {},
   "outputs": [],
   "source": []
  }
 ],
 "metadata": {
  "kernelspec": {
   "display_name": "Python 3 (ipykernel)",
   "language": "python",
   "name": "python3"
  },
  "language_info": {
   "codemirror_mode": {
    "name": "ipython",
    "version": 3
   },
   "file_extension": ".py",
   "mimetype": "text/x-python",
   "name": "python",
   "nbconvert_exporter": "python",
   "pygments_lexer": "ipython3",
   "version": "3.9.12"
  }
 },
 "nbformat": 4,
 "nbformat_minor": 5
}
