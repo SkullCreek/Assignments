{
 "cells": [
  {
   "cell_type": "markdown",
   "id": "3543344f",
   "metadata": {},
   "source": [
    "Ans1. No the python standard library doesnot include PyInputPlus."
   ]
  },
  {
   "cell_type": "markdown",
   "id": "a688d1d8",
   "metadata": {},
   "source": [
    "Ans2. So that we can enter a shorter name when calling the module's functions."
   ]
  },
  {
   "cell_type": "markdown",
   "id": "a32c362e",
   "metadata": {},
   "source": [
    "Ans3. The inputInt() function returns an integer, while the inputFloat() function returns a float value."
   ]
  },
  {
   "cell_type": "markdown",
   "id": "2c527010",
   "metadata": {},
   "source": [
    "Ans4. By using pyip.inputint(min=1, max=100)"
   ]
  },
  {
   "cell_type": "markdown",
   "id": "a37ea337",
   "metadata": {},
   "source": [
    "Ans5. We can also use regular expressions to specify whether an input is allowed or not. The allowRegexes and blockRegexes\n",
    "keyword arguments take a list of regular expression strings to determine what the PyInputPlus function will accept or reject as valid input."
   ]
  },
  {
   "cell_type": "markdown",
   "id": "9f96513c",
   "metadata": {},
   "source": [
    "Ans6. It will throw RetryLimitException exception."
   ]
  },
  {
   "cell_type": "markdown",
   "id": "dfed7d3d",
   "metadata": {},
   "source": [
    "Ans7. When you use limit keyword arguments and also pass a default keyword argument, the function returns the default value instead of raising an exception"
   ]
  },
  {
   "cell_type": "code",
   "execution_count": null,
   "id": "064bf52c",
   "metadata": {},
   "outputs": [],
   "source": []
  }
 ],
 "metadata": {
  "kernelspec": {
   "display_name": "Python 3 (ipykernel)",
   "language": "python",
   "name": "python3"
  },
  "language_info": {
   "codemirror_mode": {
    "name": "ipython",
    "version": 3
   },
   "file_extension": ".py",
   "mimetype": "text/x-python",
   "name": "python",
   "nbconvert_exporter": "python",
   "pygments_lexer": "ipython3",
   "version": "3.9.12"
  }
 },
 "nbformat": 4,
 "nbformat_minor": 5
}
