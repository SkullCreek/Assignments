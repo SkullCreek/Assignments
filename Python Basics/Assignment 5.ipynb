{
 "cells": [
  {
   "cell_type": "markdown",
   "id": "592f8cbd",
   "metadata": {},
   "source": [
    "Ans1.\n",
    "dict = {}"
   ]
  },
  {
   "cell_type": "markdown",
   "id": "1b4a8c91",
   "metadata": {},
   "source": [
    "Ans2. {'foo': 42}"
   ]
  },
  {
   "cell_type": "markdown",
   "id": "1f8466b0",
   "metadata": {},
   "source": [
    "Ans3. Dictionary operates in key and value pair while list operates on index values."
   ]
  },
  {
   "cell_type": "markdown",
   "id": "4880cab7",
   "metadata": {},
   "source": [
    "Ans4. KeyError error."
   ]
  },
  {
   "cell_type": "markdown",
   "id": "9fe7ce99",
   "metadata": {},
   "source": [
    "Ans5. There is no difference. The in operator checks whether a value exists as a key in the dictionary and same goes with spam.keys()"
   ]
  },
  {
   "cell_type": "markdown",
   "id": "aeb4e252",
   "metadata": {},
   "source": [
    "Ans6. The in operator checks whether a value exists as a key while the spam.value() checks if it is there in the dictionary value."
   ]
  },
  {
   "cell_type": "markdown",
   "id": "3f8f6c6b",
   "metadata": {},
   "source": [
    "Ans7. spam.setdefault('color', 'black')"
   ]
  },
  {
   "cell_type": "markdown",
   "id": "bd405468",
   "metadata": {},
   "source": [
    "Ans8. pprint.pprint()"
   ]
  },
  {
   "cell_type": "code",
   "execution_count": null,
   "id": "f5578f77",
   "metadata": {},
   "outputs": [],
   "source": []
  }
 ],
 "metadata": {
  "kernelspec": {
   "display_name": "Python 3 (ipykernel)",
   "language": "python",
   "name": "python3"
  },
  "language_info": {
   "codemirror_mode": {
    "name": "ipython",
    "version": 3
   },
   "file_extension": ".py",
   "mimetype": "text/x-python",
   "name": "python",
   "nbconvert_exporter": "python",
   "pygments_lexer": "ipython3",
   "version": "3.9.12"
  }
 },
 "nbformat": 4,
 "nbformat_minor": 5
}
