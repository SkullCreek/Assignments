{
 "cells": [
  {
   "cell_type": "code",
   "execution_count": 2,
   "id": "cfb4a9fe",
   "metadata": {},
   "outputs": [
    {
     "name": "stdout",
     "output_type": "stream",
     "text": [
      "just right\n"
     ]
    }
   ],
   "source": [
    "# Ans1.\n",
    "guess_me = 7\n",
    "if guess_me == 7:\n",
    "    print(\"just right\")\n",
    "elif guess_me < 7:\n",
    "    print(\"too low\")\n",
    "else:\n",
    "    print(\"too high\")"
   ]
  },
  {
   "cell_type": "code",
   "execution_count": 4,
   "id": "f3320b13",
   "metadata": {},
   "outputs": [
    {
     "name": "stdout",
     "output_type": "stream",
     "text": [
      "too low\n",
      "too low\n",
      "too low\n",
      "too low\n",
      "too low\n",
      "too low\n",
      "found it!\n"
     ]
    }
   ],
   "source": [
    "# Ans2.\n",
    "guess_me = 7\n",
    "start = 1\n",
    "while(True):\n",
    "    if start < guess_me:\n",
    "        print(\"too low\")\n",
    "    elif start > guess_me:\n",
    "        print(\"oops\")\n",
    "    else:\n",
    "        print(\"found it!\")\n",
    "        break\n",
    "    start += 1"
   ]
  },
  {
   "cell_type": "code",
   "execution_count": 7,
   "id": "7ec1aad8",
   "metadata": {},
   "outputs": [
    {
     "name": "stdout",
     "output_type": "stream",
     "text": [
      "3 2 1 0 "
     ]
    }
   ],
   "source": [
    "# Ans3.\n",
    "l = [3, 2, 1, 0]\n",
    "for i in l:\n",
    "    print(i,end=' ')"
   ]
  },
  {
   "cell_type": "code",
   "execution_count": 8,
   "id": "831d5c60",
   "metadata": {},
   "outputs": [
    {
     "name": "stdout",
     "output_type": "stream",
     "text": [
      "[0, 2, 4, 6, 8, 10]\n"
     ]
    }
   ],
   "source": [
    "# Ans4.\n",
    "print([x for x in range(10+1) if x%2==0 ])"
   ]
  },
  {
   "cell_type": "code",
   "execution_count": 9,
   "id": "a0418de2",
   "metadata": {},
   "outputs": [
    {
     "name": "stdout",
     "output_type": "stream",
     "text": [
      "{0: 0, 1: 1, 2: 4, 3: 9, 4: 16, 5: 25, 6: 36, 7: 49, 8: 64, 9: 81}\n"
     ]
    }
   ],
   "source": [
    "# Ans5.\n",
    "print(dict([(x,pow(x,2)) for x in range(10)]))"
   ]
  },
  {
   "cell_type": "code",
   "execution_count": 10,
   "id": "e2d8ea67",
   "metadata": {},
   "outputs": [
    {
     "name": "stdout",
     "output_type": "stream",
     "text": [
      "{1, 3, 5, 7, 9}\n"
     ]
    }
   ],
   "source": [
    "# Ans6.\n",
    "print({x for x in range(10) if x%2 !=0})"
   ]
  },
  {
   "cell_type": "code",
   "execution_count": 11,
   "id": "1699d42f",
   "metadata": {},
   "outputs": [
    {
     "name": "stdout",
     "output_type": "stream",
     "text": [
      "Got_0 Got_1 Got_2 Got_3 Got_4 Got_5 Got_6 Got_7 Got_8 Got_9 "
     ]
    }
   ],
   "source": [
    "# Ans7.\n",
    "gen_com = ('Got_'+str(x) for x in range(10))\n",
    "for ele in gen_com:\n",
    "    print(ele, end=' ')"
   ]
  },
  {
   "cell_type": "code",
   "execution_count": 12,
   "id": "0d74fa27",
   "metadata": {},
   "outputs": [
    {
     "name": "stdout",
     "output_type": "stream",
     "text": [
      "['Harry', 'Ron', 'Hermione']\n"
     ]
    }
   ],
   "source": [
    "# Ans8.\n",
    "def good():\n",
    "    x =  ['Harry', 'Ron', 'Hermione']\n",
    "    return x\n",
    "print(good())"
   ]
  },
  {
   "cell_type": "code",
   "execution_count": 13,
   "id": "ed4a4ec2",
   "metadata": {},
   "outputs": [
    {
     "data": {
      "text/plain": [
       "5"
      ]
     },
     "execution_count": 13,
     "metadata": {},
     "output_type": "execute_result"
    }
   ],
   "source": [
    "# Ans9.\n",
    "def get_odds():\n",
    "    output = []\n",
    "    for ele in range(10):\n",
    "        if ele%2 != 0:\n",
    "            output.append(ele)\n",
    "    yield output\n",
    "\n",
    "next(get_odds())[2]"
   ]
  },
  {
   "cell_type": "code",
   "execution_count": 14,
   "id": "ec74b9db",
   "metadata": {},
   "outputs": [
    {
     "name": "stdout",
     "output_type": "stream",
     "text": [
      "Caught in Oops -> name 'a' is not defined\n"
     ]
    }
   ],
   "source": [
    "# Ans10.\n",
    "class OopsException(Exception):\n",
    "    pass\n",
    "\n",
    "def test(input):\n",
    "    if input <0:\n",
    "        raise OopsException(a)\n",
    "try:\n",
    "    test(-100)\n",
    "except Exception as e:\n",
    "    print('Caught in Oops ->',e)"
   ]
  },
  {
   "cell_type": "code",
   "execution_count": 15,
   "id": "d31a55c4",
   "metadata": {},
   "outputs": [
    {
     "name": "stdout",
     "output_type": "stream",
     "text": [
      "{'Creature of Habit': 'A nun turns into a monster', 'Crewel Fate': 'A haunted yarn shop'}\n"
     ]
    }
   ],
   "source": [
    "# Ans11.\n",
    "titles = ['Creature of Habit', 'Crewel Fate']\n",
    "plots = ['A nun turns into a monster', 'A haunted yarn shop']\n",
    "output = dict(zip(titles,plots))\n",
    "print(output)"
   ]
  },
  {
   "cell_type": "code",
   "execution_count": null,
   "id": "070de1a2",
   "metadata": {},
   "outputs": [],
   "source": []
  }
 ],
 "metadata": {
  "kernelspec": {
   "display_name": "Python 3 (ipykernel)",
   "language": "python",
   "name": "python3"
  },
  "language_info": {
   "codemirror_mode": {
    "name": "ipython",
    "version": 3
   },
   "file_extension": ".py",
   "mimetype": "text/x-python",
   "name": "python",
   "nbconvert_exporter": "python",
   "pygments_lexer": "ipython3",
   "version": "3.9.12"
  }
 },
 "nbformat": 4,
 "nbformat_minor": 5
}
