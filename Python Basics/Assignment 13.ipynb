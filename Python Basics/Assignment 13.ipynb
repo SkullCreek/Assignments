{
 "cells": [
  {
   "cell_type": "markdown",
   "id": "0991e91c",
   "metadata": {},
   "source": [
    "Ans1.\n",
    "'''\n",
    "Excel spreadsheets have several advantages over CSV (comma-separated value) spreadsheets:\n",
    "\n",
    "Formatting options: Excel allows you to format cells and apply styles, such as borders, colors, and fonts. This can make the data in your spreadsheet more visually appealing and easier to read.\n",
    "\n",
    "Data validation: Excel allows you to set rules for data entry, such as limiting the values that can be entered into a cell or requiring a cell to contain a specific type of data (e.g., a date). This can help ensure the integrity and accuracy of your data.\n",
    "\n",
    "Formulas and functions: Excel allows you to use formulas and functions to perform calculations on your data. This can save you a lot of time and effort when working with large datasets.\n",
    "\n",
    "Pivot tables: Excel allows you to create pivot tables, which are interactive tables that allow you to quickly summarize and analyze large amounts of data.\n",
    "\n",
    "Charts and graphs: Excel allows you to create a variety of charts and graphs to visually represent your data. This can make it easier to understand and communicate your findings.\n",
    "'''"
   ]
  },
  {
   "cell_type": "markdown",
   "id": "53878993",
   "metadata": {},
   "source": [
    "Ans2. call open() and pass it 'w' to open a file in write mode and then we can pass the file object to csv.reader() and csv.writer()"
   ]
  },
  {
   "cell_type": "markdown",
   "id": "134ae116",
   "metadata": {},
   "source": [
    "Ans3. In python we can open a file in 'r','w','a','r+','w+','a+' modes."
   ]
  },
  {
   "cell_type": "markdown",
   "id": "6ff7fa4f",
   "metadata": {},
   "source": [
    "Ans4. writerow() function is then used to write single rows to the CSV file."
   ]
  },
  {
   "cell_type": "markdown",
   "id": "77540fbd",
   "metadata": {},
   "source": [
    "Ans5. The delimiter is the character that appears between cells on a row and line terminator is the character that comes at the end of a row."
   ]
  },
  {
   "cell_type": "markdown",
   "id": "0aa0ac52",
   "metadata": {},
   "source": [
    "Ans6. If you have a JSON string, you can parse it by using the json.loads() method. The result will be a Python dictionary."
   ]
  },
  {
   "cell_type": "markdown",
   "id": "5376b271",
   "metadata": {},
   "source": [
    "Ans7. If you have a Python object, you can convert it into a JSON string by using the json.dumps() method."
   ]
  },
  {
   "cell_type": "code",
   "execution_count": null,
   "id": "1f6c2d44",
   "metadata": {},
   "outputs": [],
   "source": []
  }
 ],
 "metadata": {
  "kernelspec": {
   "display_name": "Python 3 (ipykernel)",
   "language": "python",
   "name": "python3"
  },
  "language_info": {
   "codemirror_mode": {
    "name": "ipython",
    "version": 3
   },
   "file_extension": ".py",
   "mimetype": "text/x-python",
   "name": "python",
   "nbconvert_exporter": "python",
   "pygments_lexer": "ipython3",
   "version": "3.9.12"
  }
 },
 "nbformat": 4,
 "nbformat_minor": 5
}
