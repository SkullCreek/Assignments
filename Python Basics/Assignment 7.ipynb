{
 "cells": [
  {
   "cell_type": "markdown",
   "id": "ac7bd849",
   "metadata": {},
   "source": [
    "Ans1. p = re.compile('[pattern]')"
   ]
  },
  {
   "cell_type": "markdown",
   "id": "82310677",
   "metadata": {},
   "source": [
    "Ans2. Raw strings are used so that backslashes do not have to be escaped."
   ]
  },
  {
   "cell_type": "markdown",
   "id": "08d00fcb",
   "metadata": {},
   "source": [
    "Ans3. it returns the match object."
   ]
  },
  {
   "cell_type": "markdown",
   "id": "3181ccbc",
   "metadata": {},
   "source": [
    "Ans4. The group() method returns strings of the matched text."
   ]
  },
  {
   "cell_type": "markdown",
   "id": "3714408c",
   "metadata": {},
   "source": [
    "Ans5. Group 0 is the entire match, group 1 covers the first set of parentheses, and group 2 covers the second set of parentheses."
   ]
  },
  {
   "cell_type": "raw",
   "id": "645bb2e1",
   "metadata": {},
   "source": [
    "Ans6. Periods and parentheses can be escaped with a backslash: \\., \\(, and \\)."
   ]
  },
  {
   "cell_type": "markdown",
   "id": "f6e54e2c",
   "metadata": {},
   "source": [
    "Ans7. If the regex has no groups, a list of strings is returned. If the regex has groups, a list of tuples of strings is returned."
   ]
  },
  {
   "cell_type": "markdown",
   "id": "dac49c2d",
   "metadata": {},
   "source": [
    "Ans8. The | character signifies matching \"either, or\" between two groups."
   ]
  },
  {
   "cell_type": "markdown",
   "id": "0d47d838",
   "metadata": {},
   "source": [
    "Ans9. The [...] , known as character class, encloses a list of characters."
   ]
  },
  {
   "cell_type": "markdown",
   "id": "ef76c163",
   "metadata": {},
   "source": [
    "Ans10. * means zero-or-more, and + means one-or-more. So the difference is that the empty string would match the second expression but not the first."
   ]
  },
  {
   "cell_type": "markdown",
   "id": "5679018a",
   "metadata": {},
   "source": [
    "Ans11. {4,6} = between 4 and 6 characters, inclusive. {4} only checks for repetition of 4."
   ]
  },
  {
   "cell_type": "markdown",
   "id": "f8ad9272",
   "metadata": {},
   "source": [
    "Ans12. The \\d, \\w, and \\s shorthand character classes match a single digit, word, or space character, respectively."
   ]
  },
  {
   "cell_type": "markdown",
   "id": "33983225",
   "metadata": {},
   "source": [
    "Ans13. The \\D, \\W, and \\S shorthand character classes match a single character that is not a digit, word, or space character, respectively."
   ]
  },
  {
   "cell_type": "raw",
   "id": "c02e0bcd",
   "metadata": {},
   "source": [
    "Ans14. A[^Z]*ZZ yields 1 match: AuuZZ\n",
    "A.*?ZZ yields 1 match: AiiZooAuuZZ\n",
    "A.*ZZ yields 1 match: AiiZooAuuZZeeeZZ"
   ]
  },
  {
   "cell_type": "raw",
   "id": "d737e67e",
   "metadata": {},
   "source": [
    "Ans15. Either [0-9a-z] or [a-z0-9]"
   ]
  },
  {
   "cell_type": "raw",
   "id": "2c2e9f26",
   "metadata": {},
   "source": [
    "Ans16. Passing re.I or re.IGNORECASE as the second argument to re.compile() will make the matching case insensitive."
   ]
  },
  {
   "cell_type": "markdown",
   "id": "4458d999",
   "metadata": {},
   "source": [
    "Ans17. The . character normally matches any character except the newline character. If re.DOTALL is passed as the second argument to re.compile(), then the dot will also match newline characters."
   ]
  },
  {
   "cell_type": "raw",
   "id": "530a8de9",
   "metadata": {},
   "source": [
    "Ans18. X drummers, X pipers, five rings, X hens"
   ]
  },
  {
   "cell_type": "raw",
   "id": "a2e38c63",
   "metadata": {},
   "source": [
    "Ans19. The re.VERBOSE argument allows you to add whitespace and comments to the string passed to re.compile()."
   ]
  },
  {
   "cell_type": "raw",
   "id": "851f6b58",
   "metadata": {},
   "source": [
    "Ans20. re.compile(r'^\\d{1,3}(,\\d{3})*$') will create this regex, but other regex strings can produce a similar regular expression."
   ]
  },
  {
   "cell_type": "raw",
   "id": "b5089773",
   "metadata": {},
   "source": [
    "Ans21. re.compile(r'[A-Z][a-z]*\\sNakamoto')"
   ]
  },
  {
   "cell_type": "raw",
   "id": "680a2ec1",
   "metadata": {},
   "source": [
    "Ans22. re.compile(r'(Alice|Bob|Carol)\\s(eats|pets|throws)\\s(apples|cats|baseballs)\\.', re.IGNORECASE)"
   ]
  },
  {
   "cell_type": "code",
   "execution_count": null,
   "id": "569f3857",
   "metadata": {},
   "outputs": [],
   "source": []
  }
 ],
 "metadata": {
  "kernelspec": {
   "display_name": "Python 3 (ipykernel)",
   "language": "python",
   "name": "python3"
  },
  "language_info": {
   "codemirror_mode": {
    "name": "ipython",
    "version": 3
   },
   "file_extension": ".py",
   "mimetype": "text/x-python",
   "name": "python",
   "nbconvert_exporter": "python",
   "pygments_lexer": "ipython3",
   "version": "3.9.12"
  }
 },
 "nbformat": 4,
 "nbformat_minor": 5
}
