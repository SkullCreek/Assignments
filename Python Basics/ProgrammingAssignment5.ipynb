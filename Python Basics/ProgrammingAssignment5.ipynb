{
 "cells": [
  {
   "cell_type": "code",
   "execution_count": 3,
   "id": "010f5bfe",
   "metadata": {},
   "outputs": [
    {
     "name": "stdout",
     "output_type": "stream",
     "text": [
      "Enter number 1: 10\n",
      "Enter number 2: 20\n",
      "The L.C.M. is 20\n"
     ]
    }
   ],
   "source": [
    "# Ans1.\n",
    "def LCM(x, y):\n",
    "   if x > y:\n",
    "       greater = x\n",
    "   else:\n",
    "       greater = y\n",
    "\n",
    "   while(True):\n",
    "       if((greater % x == 0) and (greater % y == 0)):\n",
    "           lcm = greater\n",
    "           break\n",
    "       greater += 1\n",
    "\n",
    "   return lcm\n",
    "\n",
    "num1 = int(input(\"Enter number 1: \"))\n",
    "num2 = int(input(\"Enter number 2: \"))\n",
    "\n",
    "print(\"The L.C.M. is\", LCM(num1, num2))"
   ]
  },
  {
   "cell_type": "code",
   "execution_count": 5,
   "id": "b1179963",
   "metadata": {},
   "outputs": [
    {
     "name": "stdout",
     "output_type": "stream",
     "text": [
      "Enter number 1: 10\n",
      "Enter number 2: 20\n",
      "The H.C.F. is 10\n"
     ]
    }
   ],
   "source": [
    "# Ans2\n",
    "def HCF(x, y):\n",
    "    if x > y:\n",
    "        smaller = y\n",
    "    else:\n",
    "        smaller = x\n",
    "    for i in range(1, smaller+1):\n",
    "        if((x % i == 0) and (y % i == 0)):\n",
    "            hcf = i \n",
    "    return hcf\n",
    "\n",
    "num1 = int(input(\"Enter number 1: \"))\n",
    "num2 = int(input(\"Enter number 2: \"))\n",
    "\n",
    "print(\"The H.C.F. is\", HCF(num1, num2))"
   ]
  },
  {
   "cell_type": "code",
   "execution_count": 6,
   "id": "72c52861",
   "metadata": {},
   "outputs": [
    {
     "name": "stdout",
     "output_type": "stream",
     "text": [
      "Enter the decimal value9\n",
      "The decimal value of 9 is:\n",
      "0b1001 in binary.\n",
      "0o11 in octal.\n",
      "0x9 in hexadecimal.\n"
     ]
    }
   ],
   "source": [
    "# Ans3\n",
    "dec = int(input(\"Enter the decimal value\"))\n",
    "\n",
    "print(\"The decimal value of\", dec, \"is:\")\n",
    "print(bin(dec), \"in binary.\")\n",
    "print(oct(dec), \"in octal.\")\n",
    "print(hex(dec), \"in hexadecimal.\")"
   ]
  },
  {
   "cell_type": "code",
   "execution_count": 7,
   "id": "dd38c618",
   "metadata": {},
   "outputs": [
    {
     "name": "stdout",
     "output_type": "stream",
     "text": [
      "The ASCII value of 'A' is 65\n"
     ]
    }
   ],
   "source": [
    "# Ans4.\n",
    "a = 'A'\n",
    "print(\"The ASCII value of '\" + a + \"' is\", ord(a))"
   ]
  },
  {
   "cell_type": "code",
   "execution_count": 17,
   "id": "e1ba7649",
   "metadata": {},
   "outputs": [
    {
     "name": "stdout",
     "output_type": "stream",
     "text": [
      "Enter number 1: 10\n",
      "Enter number 2: 20\n",
      "Enter Operation: *\n",
      "200\n"
     ]
    }
   ],
   "source": [
    "# Ans5\n",
    "class math_operations:\n",
    "    def __init__(self,num1,num2):\n",
    "        self.num1 = num1\n",
    "        self.num2 = num2\n",
    "    def addition(self):\n",
    "        return (self.num1 + self.num2)\n",
    "    def multiplication(self):\n",
    "        return self.num1 * self.num2\n",
    "    def subtraction(self):\n",
    "        return self.num1 - self.num2\n",
    "    def division(self):\n",
    "        return self.num1 / self.num2\n",
    "    \n",
    "class main:\n",
    "    num1 = int(input(\"Enter number 1: \"))\n",
    "    num2 = int(input(\"Enter number 2: \"))\n",
    "    operation = input(\"Enter Operation: \")\n",
    "    obj1 = math_operations(num1,num2)\n",
    "    if(operation == \"+\"):\n",
    "        print(obj1.addition())\n",
    "    elif(operation == '*'):\n",
    "        print(obj1.multiplication())\n",
    "    elif operation == '-':\n",
    "        print(obj1.subtraction())\n",
    "    elif operation == '/':\n",
    "        print(obj1.division())\n",
    "    else:\n",
    "         print(\"invalid\")\n",
    "    "
   ]
  },
  {
   "cell_type": "code",
   "execution_count": null,
   "id": "704ab230",
   "metadata": {},
   "outputs": [],
   "source": []
  }
 ],
 "metadata": {
  "kernelspec": {
   "display_name": "Python 3 (ipykernel)",
   "language": "python",
   "name": "python3"
  },
  "language_info": {
   "codemirror_mode": {
    "name": "ipython",
    "version": 3
   },
   "file_extension": ".py",
   "mimetype": "text/x-python",
   "name": "python",
   "nbconvert_exporter": "python",
   "pygments_lexer": "ipython3",
   "version": "3.9.12"
  }
 },
 "nbformat": 4,
 "nbformat_minor": 5
}
