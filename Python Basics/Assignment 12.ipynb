{
 "cells": [
  {
   "cell_type": "markdown",
   "id": "ec04fed2",
   "metadata": {},
   "source": [
    "Ans1. These files will be opened in binary mode., read binary (rb) for PdfFileREader() and write binary (wb) PdfFileWriter()"
   ]
  },
  {
   "cell_type": "markdown",
   "id": "48fb7145",
   "metadata": {},
   "source": [
    "Ans2. Calling getPage(4) will return a Page object for page 5 since page 0 is the first page"
   ]
  },
  {
   "cell_type": "code",
   "execution_count": null,
   "id": "e2b771cc",
   "metadata": {},
   "outputs": [],
   "source": [
    "# import PyPDF2 as pdf\n",
    "# open_pdf = open(\"Darpan.pdf\",'rb')\n",
    "# pdfReader = pdf.PdfFileReader(open_pdf)\n",
    "# pageObj = pdfReader.getPage(4)"
   ]
  },
  {
   "cell_type": "markdown",
   "id": "39e5221b",
   "metadata": {},
   "source": [
    "Ans3. The total number of pages in the document is stored in the numPages attribute of a PdfFileReader object."
   ]
  },
  {
   "cell_type": "markdown",
   "id": "8ccf9094",
   "metadata": {},
   "source": [
    "Ans4. Before we obtainthe page object, the padf has to be decrypted by calling .decrypt('swordfish')"
   ]
  },
  {
   "cell_type": "markdown",
   "id": "3d47d51b",
   "metadata": {},
   "source": [
    "Ans5. rotateClockwise(180) and rotateCounterClockwise() methods. The degrees to rotate is passed as an integer argument."
   ]
  },
  {
   "cell_type": "markdown",
   "id": "15652175",
   "metadata": {},
   "source": [
    "Ans6. Paragraph Object : A document contains multiple paragraphs. A paragraph begins on a new line and contains multiple\n",
    "runs. The Document object contains a list of Paragraph objects for the paragraphs in the document.\n",
    "Run Objects : Runs are contiguous groups of characters within a paragraph with the same style."
   ]
  },
  {
   "cell_type": "markdown",
   "id": "d5cb6f2e",
   "metadata": {},
   "source": [
    "Ans7. import docx\n",
    "doc = docx.Document('abc.docx')\n",
    "doc.paragraphs"
   ]
  },
  {
   "cell_type": "markdown",
   "id": "7ef97d9a",
   "metadata": {},
   "source": [
    "Ans8. A Run object has bold, underline,italic,strike and outline variables."
   ]
  },
  {
   "cell_type": "markdown",
   "id": "a8351550",
   "metadata": {},
   "source": [
    "Ans9. Runs can be further styled using text attributes. Each attribute can be set to one of three values:\n",
    "True (the attribute is always enabled, no matter what other styles are applied to the run),\n",
    "False (the attribute is always disabled),\n",
    "None (defaults to whatever the run’s style is set to)\n",
    "\n",
    "True always makes the Run object bolded and False makes it always not bolded, no matter what the style’s bold setting is. None will make the Run object just use the style’s bold setting"
   ]
  },
  {
   "cell_type": "markdown",
   "id": "12697a2c",
   "metadata": {},
   "source": [
    "Ans10. By Calling the docx.Document() function."
   ]
  },
  {
   "cell_type": "markdown",
   "id": "02b10a96",
   "metadata": {},
   "source": [
    "Ans11. doc.add_paragraph('Hello there!') is used to add a paragraph."
   ]
  },
  {
   "cell_type": "markdown",
   "id": "3d844bd4",
   "metadata": {},
   "source": [
    "Ans12. integer from 0 to 4\n",
    "The arguments to add_heading() are a string of the heading text and an integer from 0 to 4. The integer 0 makes the heading the Title style, which is used for the top of the document. Integers 1 to 4 are for various heading levels, with 1 being the main heading and 4 the lowest subheading"
   ]
  },
  {
   "cell_type": "code",
   "execution_count": null,
   "id": "edc25ce9",
   "metadata": {},
   "outputs": [],
   "source": []
  }
 ],
 "metadata": {
  "kernelspec": {
   "display_name": "Python 3 (ipykernel)",
   "language": "python",
   "name": "python3"
  },
  "language_info": {
   "codemirror_mode": {
    "name": "ipython",
    "version": 3
   },
   "file_extension": ".py",
   "mimetype": "text/x-python",
   "name": "python",
   "nbconvert_exporter": "python",
   "pygments_lexer": "ipython3",
   "version": "3.9.12"
  }
 },
 "nbformat": 4,
 "nbformat_minor": 5
}
