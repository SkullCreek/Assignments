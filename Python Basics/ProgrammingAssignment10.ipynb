{
 "cells": [
  {
   "cell_type": "code",
   "execution_count": 1,
   "id": "6c5ab3cd",
   "metadata": {},
   "outputs": [
    {
     "name": "stdout",
     "output_type": "stream",
     "text": [
      "26\n"
     ]
    }
   ],
   "source": [
    "# Ans1.\n",
    "import functools as fun\n",
    "\n",
    "list = [1,3,4,5,6,7]\n",
    "\n",
    "sum = fun.reduce(lambda a,b : a+b,list)\n",
    "print(sum)"
   ]
  },
  {
   "cell_type": "code",
   "execution_count": 2,
   "id": "cb7849e6",
   "metadata": {},
   "outputs": [
    {
     "name": "stdout",
     "output_type": "stream",
     "text": [
      "2520\n"
     ]
    }
   ],
   "source": [
    "# Ans2.\n",
    "import functools as fun\n",
    "\n",
    "list = [1,3,4,5,6,7]\n",
    "\n",
    "mul = fun.reduce(lambda a,b : a*b,list)\n",
    "print(mul)"
   ]
  },
  {
   "cell_type": "code",
   "execution_count": 9,
   "id": "92582647",
   "metadata": {},
   "outputs": [
    {
     "name": "stdout",
     "output_type": "stream",
     "text": [
      "4\n"
     ]
    }
   ],
   "source": [
    "# Ans3.\n",
    "import functools as fun\n",
    "\n",
    "list = [10,9,4,5,6,7]\n",
    "\n",
    "small = fun.reduce(lambda a,b : a if a<b else b ,list)\n",
    "print(small)"
   ]
  },
  {
   "cell_type": "code",
   "execution_count": 10,
   "id": "86ae4e84",
   "metadata": {},
   "outputs": [
    {
     "name": "stdout",
     "output_type": "stream",
     "text": [
      "10\n"
     ]
    }
   ],
   "source": [
    "# Ans4.\n",
    "import functools as fun\n",
    "\n",
    "list = [10,9,4,5,6,7]\n",
    "\n",
    "large = fun.reduce(lambda a,b : b if a<b else a ,list)\n",
    "print(large)"
   ]
  },
  {
   "cell_type": "code",
   "execution_count": 24,
   "id": "d43f5105",
   "metadata": {},
   "outputs": [
    {
     "name": "stdout",
     "output_type": "stream",
     "text": [
      "9\n"
     ]
    }
   ],
   "source": [
    "# Ans5.\n",
    "li = [10,9,4,5,6,7]\n",
    "\n",
    "li.sort()\n",
    "print(li[len(li) - 2])"
   ]
  },
  {
   "cell_type": "code",
   "execution_count": 25,
   "id": "ad81ca63",
   "metadata": {},
   "outputs": [
    {
     "name": "stdout",
     "output_type": "stream",
     "text": [
      "6\n"
     ]
    }
   ],
   "source": [
    "# Ans6.\n",
    "N = 4\n",
    "li = [10,9,4,5,6,7]\n",
    "\n",
    "li.sort()\n",
    "print(li[len(li) - N])"
   ]
  },
  {
   "cell_type": "code",
   "execution_count": 32,
   "id": "519a5e52",
   "metadata": {},
   "outputs": [
    {
     "name": "stdout",
     "output_type": "stream",
     "text": [
      "10\n",
      "4\n",
      "6\n"
     ]
    }
   ],
   "source": [
    "# Ans7.\n",
    "li = [10,9,4,5,6,7]\n",
    "for i in li:\n",
    "    if i%2 == 0:\n",
    "        print(i)"
   ]
  },
  {
   "cell_type": "code",
   "execution_count": 33,
   "id": "9c7d52b5",
   "metadata": {},
   "outputs": [
    {
     "name": "stdout",
     "output_type": "stream",
     "text": [
      "9\n",
      "5\n",
      "7\n"
     ]
    }
   ],
   "source": [
    "# Ans8.\n",
    "li = [10,9,4,5,6,7]\n",
    "for i in li:\n",
    "    if i%2 != 0:\n",
    "        print(i)"
   ]
  },
  {
   "cell_type": "code",
   "execution_count": 34,
   "id": "03184480",
   "metadata": {},
   "outputs": [
    {
     "name": "stdout",
     "output_type": "stream",
     "text": [
      "[5, 6, 3, 9]\n"
     ]
    }
   ],
   "source": [
    "# Ans9.\n",
    "test_list = [5, 6, [], 3, [], [], 9]\n",
    "res = [ele for ele in test_list if ele != []]\n",
    "print(res)"
   ]
  },
  {
   "cell_type": "code",
   "execution_count": 36,
   "id": "3a91cb57",
   "metadata": {},
   "outputs": [
    {
     "name": "stdout",
     "output_type": "stream",
     "text": [
      "[10, 9, 4, 5, 6, 7]\n"
     ]
    }
   ],
   "source": [
    "# Ans10.\n",
    "li = [10,9,4,5,6,7]\n",
    "res = [i for i in li]\n",
    "print(res)"
   ]
  },
  {
   "cell_type": "code",
   "execution_count": 52,
   "id": "5cb3fd83",
   "metadata": {},
   "outputs": [
    {
     "name": "stdout",
     "output_type": "stream",
     "text": [
      "3\n"
     ]
    }
   ],
   "source": [
    "# Ans11.\n",
    "import functools as fun\n",
    "num = 8\n",
    "count = 0\n",
    "li = [10,9,4,5,6,7,8,8,8]\n",
    "for i in li:\n",
    "    if i == num:\n",
    "        count = count + 1;\n",
    "print(count)"
   ]
  },
  {
   "cell_type": "code",
   "execution_count": null,
   "id": "4d8e5e18",
   "metadata": {},
   "outputs": [],
   "source": []
  }
 ],
 "metadata": {
  "kernelspec": {
   "display_name": "Python 3 (ipykernel)",
   "language": "python",
   "name": "python3"
  },
  "language_info": {
   "codemirror_mode": {
    "name": "ipython",
    "version": 3
   },
   "file_extension": ".py",
   "mimetype": "text/x-python",
   "name": "python",
   "nbconvert_exporter": "python",
   "pygments_lexer": "ipython3",
   "version": "3.9.12"
  }
 },
 "nbformat": 4,
 "nbformat_minor": 5
}
