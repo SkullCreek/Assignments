{
 "cells": [
  {
   "cell_type": "code",
   "execution_count": 29,
   "id": "5ffee6ab",
   "metadata": {},
   "outputs": [
    {
     "name": "stdout",
     "output_type": "stream",
     "text": [
      "This is disarium number\n"
     ]
    }
   ],
   "source": [
    "# Ans1.\n",
    "import math\n",
    "def disarium(num):\n",
    "    temp = num\n",
    "    sum = 0\n",
    "    pos = len(str(num))\n",
    "    while(temp != 0):\n",
    "        sum += (temp % 10)**pos\n",
    "        temp = math.floor(temp / 10)\n",
    "        pos -= 1\n",
    "    return True if sum == num else False\n",
    "        \n",
    "\n",
    "if disarium(89):\n",
    "    print(\"This is disarium number\")\n",
    "else:\n",
    "    print(\"This is not a disarium number\")\n",
    "\n"
   ]
  },
  {
   "cell_type": "code",
   "execution_count": 30,
   "id": "55159818",
   "metadata": {},
   "outputs": [
    {
     "name": "stdout",
     "output_type": "stream",
     "text": [
      "1 2 3 4 5 6 7 8 9 89 "
     ]
    }
   ],
   "source": [
    "# Ans2. \n",
    "import math\n",
    "def disarium(num):\n",
    "    temp = num\n",
    "    sum = 0\n",
    "    pos = len(str(num))\n",
    "    while(temp != 0):\n",
    "        sum += (temp % 10)**pos\n",
    "        temp = math.floor(temp / 10)\n",
    "        pos -= 1\n",
    "    return True if sum == num else False\n",
    "        \n",
    "\n",
    "for i in range(1,100) :\n",
    "    if disarium(i) :\n",
    "        print(i,end=\" \")"
   ]
  },
  {
   "cell_type": "code",
   "execution_count": 31,
   "id": "d51c2dc7",
   "metadata": {},
   "outputs": [
    {
     "name": "stdout",
     "output_type": "stream",
     "text": [
      "True\n"
     ]
    }
   ],
   "source": [
    "# Ans3.\n",
    "def is_Happy_num(n):\n",
    "  past = set()\n",
    "  while n != 1:\n",
    "        n = sum(int(i)**2 for i in str(n))\n",
    "        if n in past:\n",
    "            return False\n",
    "        past.add(n)\n",
    "  return True\n",
    "print(is_Happy_num(7))"
   ]
  },
  {
   "cell_type": "code",
   "execution_count": 32,
   "id": "68354dd3",
   "metadata": {},
   "outputs": [
    {
     "name": "stdout",
     "output_type": "stream",
     "text": [
      "1 7 10 13 19 23 28 31 32 44 49 68 70 79 82 86 91 94 97 "
     ]
    }
   ],
   "source": [
    "# Ans4.\n",
    "def is_Happy_num(n):\n",
    "  past = set()\n",
    "  while n != 1:\n",
    "        n = sum(int(i)**2 for i in str(n))\n",
    "        if n in past:\n",
    "            return False\n",
    "        past.add(n)\n",
    "  return True\n",
    "\n",
    "for i in range(1,100):\n",
    "    if is_Happy_num(i) :\n",
    "        print(i,end=\" \")"
   ]
  },
  {
   "cell_type": "code",
   "execution_count": 33,
   "id": "02fc7cf2",
   "metadata": {},
   "outputs": [
    {
     "name": "stdout",
     "output_type": "stream",
     "text": [
      "156 is a harshad number\n"
     ]
    }
   ],
   "source": [
    "# Ans5.\n",
    "num = 156;    \n",
    "rem = sum = 0;      \n",
    "n = num; \n",
    "while(num > 0):    \n",
    "    rem = num%10;    \n",
    "    sum = sum + rem;    \n",
    "    num = num//10;\n",
    "if(n%sum == 0):    \n",
    "    print(str(n) + \" is a harshad number\");    \n",
    "else:    \n",
    "    print(str(n) + \" is not a harshad number\");    "
   ]
  },
  {
   "cell_type": "code",
   "execution_count": 36,
   "id": "46d89e81",
   "metadata": {},
   "outputs": [
    {
     "name": "stdout",
     "output_type": "stream",
     "text": [
      "2 6 12 20 30 42 56 72 90 "
     ]
    }
   ],
   "source": [
    "# Ans6.\n",
    "def isPronicNumber(num):    \n",
    "    flag = False    \n",
    "        \n",
    "    for j in range(1, num+1):\n",
    "        if((j*(j+1)) == num):    \n",
    "            flag = True   \n",
    "            break\n",
    "    return flag \n",
    "for i in range(1, 101):    \n",
    "    if(isPronicNumber(i)):    \n",
    "        print(i,end=\" \")  "
   ]
  },
  {
   "cell_type": "code",
   "execution_count": null,
   "id": "d29d80bf",
   "metadata": {},
   "outputs": [],
   "source": []
  }
 ],
 "metadata": {
  "kernelspec": {
   "display_name": "Python 3 (ipykernel)",
   "language": "python",
   "name": "python3"
  },
  "language_info": {
   "codemirror_mode": {
    "name": "ipython",
    "version": 3
   },
   "file_extension": ".py",
   "mimetype": "text/x-python",
   "name": "python",
   "nbconvert_exporter": "python",
   "pygments_lexer": "ipython3",
   "version": "3.9.12"
  }
 },
 "nbformat": 4,
 "nbformat_minor": 5
}
