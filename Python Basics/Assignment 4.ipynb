{
 "cells": [
  {
   "cell_type": "markdown",
   "id": "44d77d43",
   "metadata": {},
   "source": [
    "Ans1. empty list value."
   ]
  },
  {
   "cell_type": "markdown",
   "id": "40d27eef",
   "metadata": {},
   "source": [
    "Ans2. spam[2] = 'hello'"
   ]
  },
  {
   "cell_type": "markdown",
   "id": "9b7ef237",
   "metadata": {},
   "source": [
    "Ans3. 'd'"
   ]
  },
  {
   "cell_type": "markdown",
   "id": "45878ead",
   "metadata": {},
   "source": [
    "Ans4. 'd'"
   ]
  },
  {
   "cell_type": "markdown",
   "id": "ff379146",
   "metadata": {},
   "source": [
    "Ans5. ['a', 'b']"
   ]
  },
  {
   "cell_type": "markdown",
   "id": "c14e3d54",
   "metadata": {},
   "source": [
    "Ans6. 1"
   ]
  },
  {
   "cell_type": "markdown",
   "id": "18a3083d",
   "metadata": {},
   "source": [
    "Ans7. [3.14, 'cat', 11, 'cat', True, 99]"
   ]
  },
  {
   "cell_type": "markdown",
   "id": "30e76a82",
   "metadata": {},
   "source": [
    "Ans8. [3.14, 11, 'cat', True]"
   ]
  },
  {
   "cell_type": "markdown",
   "id": "a2f805cd",
   "metadata": {},
   "source": [
    "Ans9. list concatenation is +, list replication is *"
   ]
  },
  {
   "cell_type": "markdown",
   "id": "e131ad5d",
   "metadata": {},
   "source": [
    "Ans10. append() add values only to the end of a list while insert() can add them anywhere in the list."
   ]
  },
  {
   "cell_type": "markdown",
   "id": "d0f47597",
   "metadata": {},
   "source": [
    "Ans11. del statement and the remove() list method"
   ]
  },
  {
   "cell_type": "markdown",
   "id": "2cf13fe3",
   "metadata": {},
   "source": [
    "Ans12. Both lists and strings can be passed to len(), have indexes and slices, be used in for loops, be concatenated or replicated, and be used with the in and not in operators"
   ]
  },
  {
   "cell_type": "markdown",
   "id": "1f233d86",
   "metadata": {},
   "source": [
    "Ans13. Lists are mutable; they can have values added, removed, or changed. Tuples are immutable; they cannot be changed at all. Also, tuples are written using parentheses, ( and ), while lists use the square brackets, [ and ]."
   ]
  },
  {
   "cell_type": "markdown",
   "id": "bd27ec50",
   "metadata": {},
   "source": [
    "Ans14. (42,)"
   ]
  },
  {
   "cell_type": "markdown",
   "id": "25160c88",
   "metadata": {},
   "source": [
    "Ans15. tuple() and list()"
   ]
  },
  {
   "cell_type": "markdown",
   "id": "1158299e",
   "metadata": {},
   "source": [
    "Ans16. They contain references to list values."
   ]
  },
  {
   "cell_type": "markdown",
   "id": "4ae16d64",
   "metadata": {},
   "source": [
    "Ans17. The copy.copy() function will do a shallow copy of a list, while the copy.deepcopy() function will do a deep copy of a list. That is, only copy.deepcopy() will duplicate any lists inside the list."
   ]
  },
  {
   "cell_type": "code",
   "execution_count": null,
   "id": "c8abbc8b",
   "metadata": {},
   "outputs": [],
   "source": []
  }
 ],
 "metadata": {
  "kernelspec": {
   "display_name": "Python 3 (ipykernel)",
   "language": "python",
   "name": "python3"
  },
  "language_info": {
   "codemirror_mode": {
    "name": "ipython",
    "version": 3
   },
   "file_extension": ".py",
   "mimetype": "text/x-python",
   "name": "python",
   "nbconvert_exporter": "python",
   "pygments_lexer": "ipython3",
   "version": "3.9.12"
  }
 },
 "nbformat": 4,
 "nbformat_minor": 5
}
