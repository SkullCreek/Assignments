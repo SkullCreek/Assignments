{
 "cells": [
  {
   "cell_type": "markdown",
   "id": "0eccb33f",
   "metadata": {},
   "source": [
    "Ans1. While shutil.copy() will copy a single file, shutil.copytree() will copy an entire folder and every folder and file contained in it."
   ]
  },
  {
   "cell_type": "markdown",
   "id": "5d28773e",
   "metadata": {},
   "source": [
    "Ans2. rename() function is used to rename files."
   ]
  },
  {
   "cell_type": "markdown",
   "id": "2e84a450",
   "metadata": {},
   "source": [
    "Ans3. The send2trash functions will move a file or folder to the recycle bin, while shutil functions will permanently delete files and folders."
   ]
  },
  {
   "cell_type": "markdown",
   "id": "8e1044a2",
   "metadata": {},
   "source": [
    "Ans4. The zipfile.ZipFile() function is equivalent to the open() function; the first argument is the filename, and the second argument is the mode to open the ZIP file in (read, write, or append)"
   ]
  },
  {
   "cell_type": "code",
   "execution_count": 5,
   "id": "6622ff6a",
   "metadata": {},
   "outputs": [
    {
     "name": "stdout",
     "output_type": "stream",
     "text": [
      "Looking in C:\\Users\\darpan\\Assignments ineuron\\Python Basics\\randomFolder for files with extensions of .php, .ipynb\n"
     ]
    }
   ],
   "source": [
    "# Ans5. \n",
    "import os, shutil\n",
    "\n",
    "def selectiveCopy(folder, extensions, destFolder):\n",
    "    folder = os.path.abspath(folder)\n",
    "    destFolder = os.path.abspath(destFolder)\n",
    "    print('Looking in', folder, 'for files with extensions of', ', '.join(extensions))\n",
    "    for foldername, subfolders, filenames in os.walk(folder):\n",
    "        for filename in filenames:\n",
    "            name, extension = os.path.splitext(filename)\n",
    "            if extension in extensions:\n",
    "                fileAbsPath = foldername + os.path.sep + filename\n",
    "                print('Coping', fileAbsPath, 'to', destFolder)\n",
    "                shutil.copy(fileAbsPath, destFolder)\n",
    "\n",
    "extensions = ['.php', '.ipynb']\n",
    "folder = 'randomFolder'\n",
    "destFolder = 'selectiveFolder'\n",
    "selectiveCopy(folder, extensions, destFolder)"
   ]
  },
  {
   "cell_type": "code",
   "execution_count": null,
   "id": "de5eb33d",
   "metadata": {},
   "outputs": [],
   "source": []
  }
 ],
 "metadata": {
  "kernelspec": {
   "display_name": "Python 3 (ipykernel)",
   "language": "python",
   "name": "python3"
  },
  "language_info": {
   "codemirror_mode": {
    "name": "ipython",
    "version": 3
   },
   "file_extension": ".py",
   "mimetype": "text/x-python",
   "name": "python",
   "nbconvert_exporter": "python",
   "pygments_lexer": "ipython3",
   "version": "3.9.12"
  }
 },
 "nbformat": 4,
 "nbformat_minor": 5
}
