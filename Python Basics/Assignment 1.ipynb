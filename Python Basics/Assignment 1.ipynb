{
 "cells": [
  {
   "cell_type": "markdown",
   "id": "2edfb73f",
   "metadata": {},
   "source": [
    "Ans1. Values :- 'hello', -87.8, 6 and Expressions :- *, -, /, +"
   ]
  },
  {
   "cell_type": "markdown",
   "id": "57cc50bb",
   "metadata": {},
   "source": [
    "Ans2. Strings :- Strings is a type of data type which enables variables to store sequence of characters. For Example :- \"Darpan Bahadur\".\n",
    "Variables :- Variables are refereces to values stored in the memory. For Example:- a = 10, here a is a variable.\n",
    "    "
   ]
  },
  {
   "cell_type": "markdown",
   "id": "5968432f",
   "metadata": {},
   "source": [
    "Ans3. Int :- Int is a data type which represents an integer value or real numbers. ex:- a=3.\n",
    "Boolean :- Boolean is a data type which represent true or false values. 0 stands for False and 1 stands for true. ex:- a = True.\n",
    "Float :- Float is a data type which represents a decimal or floating point value. ex:- a = 3.15."
   ]
  },
  {
   "cell_type": "markdown",
   "id": "648d52eb",
   "metadata": {},
   "source": [
    "Ans4. An expression is a combination of variables, values and operators which generally performs a mathematical or computer operation. ex:- a = 10 + 20"
   ]
  },
  {
   "cell_type": "markdown",
   "id": "abc9a271",
   "metadata": {},
   "source": [
    "Ans5. spam = 10 is a statement because it is not performing any operation which gives a value whereas expressions are operators, operands and variables which produces different output."
   ]
  },
  {
   "cell_type": "markdown",
   "id": "e85045ce",
   "metadata": {},
   "source": [
    "Ans6."
   ]
  },
  {
   "cell_type": "code",
   "execution_count": 4,
   "id": "52819145",
   "metadata": {},
   "outputs": [
    {
     "data": {
      "text/plain": [
       "23"
      ]
     },
     "execution_count": 4,
     "metadata": {},
     "output_type": "execute_result"
    }
   ],
   "source": [
    "bacon = 22\n",
    "bacon + 1"
   ]
  },
  {
   "cell_type": "markdown",
   "id": "c961a3b8",
   "metadata": {},
   "source": [
    "the variable bacon contains 22 because we are not assigning the updated value to bacon."
   ]
  },
  {
   "cell_type": "code",
   "execution_count": 5,
   "id": "c25df4cf",
   "metadata": {},
   "outputs": [
    {
     "data": {
      "text/plain": [
       "22"
      ]
     },
     "execution_count": 5,
     "metadata": {},
     "output_type": "execute_result"
    }
   ],
   "source": [
    "bacon"
   ]
  },
  {
   "cell_type": "markdown",
   "id": "c1a1f2ad",
   "metadata": {},
   "source": [
    "Ans7."
   ]
  },
  {
   "cell_type": "code",
   "execution_count": 7,
   "id": "1210a978",
   "metadata": {},
   "outputs": [
    {
     "data": {
      "text/plain": [
       "'spamspamspam'"
      ]
     },
     "execution_count": 7,
     "metadata": {},
     "output_type": "execute_result"
    }
   ],
   "source": [
    "'spam' + 'spamspam'"
   ]
  },
  {
   "cell_type": "code",
   "execution_count": 8,
   "id": "49f77155",
   "metadata": {},
   "outputs": [
    {
     "data": {
      "text/plain": [
       "'spamspamspam'"
      ]
     },
     "execution_count": 8,
     "metadata": {},
     "output_type": "execute_result"
    }
   ],
   "source": [
    "'spam'*3"
   ]
  },
  {
   "cell_type": "markdown",
   "id": "d49b75fa",
   "metadata": {},
   "source": [
    "both of them will be same"
   ]
  },
  {
   "cell_type": "markdown",
   "id": "daf09b54",
   "metadata": {},
   "source": [
    "Ans8. eggs is a valid variable name while 100 is invalid because acroding to rules a variable should not start with numbers, it should always start with alphabetic character and _."
   ]
  },
  {
   "cell_type": "markdown",
   "id": "b200d0e7",
   "metadata": {},
   "source": [
    "Ans9. int(value), float(value), str(value)"
   ]
  },
  {
   "cell_type": "markdown",
   "id": "5d58c5a6",
   "metadata": {},
   "source": [
    "Ans10. We cannot concatinate strings to an integer we should convert 99 into string using str(value) function"
   ]
  },
  {
   "cell_type": "code",
   "execution_count": 11,
   "id": "8cf71f97",
   "metadata": {},
   "outputs": [
    {
     "data": {
      "text/plain": [
       "'I have eaten 99 burritos.'"
      ]
     },
     "execution_count": 11,
     "metadata": {},
     "output_type": "execute_result"
    }
   ],
   "source": [
    "'I have eaten ' + str(99) + ' burritos.'"
   ]
  }
 ],
 "metadata": {
  "kernelspec": {
   "display_name": "Python 3 (ipykernel)",
   "language": "python",
   "name": "python3"
  },
  "language_info": {
   "codemirror_mode": {
    "name": "ipython",
    "version": 3
   },
   "file_extension": ".py",
   "mimetype": "text/x-python",
   "name": "python",
   "nbconvert_exporter": "python",
   "pygments_lexer": "ipython3",
   "version": "3.9.12"
  }
 },
 "nbformat": 4,
 "nbformat_minor": 5
}
