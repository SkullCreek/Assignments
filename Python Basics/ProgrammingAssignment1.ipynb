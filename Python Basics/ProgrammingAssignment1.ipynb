{
 "cells": [
  {
   "cell_type": "code",
   "execution_count": 1,
   "id": "4b354e7a",
   "metadata": {},
   "outputs": [
    {
     "name": "stdout",
     "output_type": "stream",
     "text": [
      "Hello Python\n"
     ]
    }
   ],
   "source": [
    "# Ans1.\n",
    "print(\"Hello Python\")"
   ]
  },
  {
   "cell_type": "code",
   "execution_count": 4,
   "id": "ed8e72e6",
   "metadata": {},
   "outputs": [
    {
     "name": "stdout",
     "output_type": "stream",
     "text": [
      "Adding 10 and 20 = 30 , Dividing 20 by 10 =  2.0\n"
     ]
    }
   ],
   "source": [
    "# Ans2.\n",
    "a = 10\n",
    "b = 20\n",
    "add = a + b\n",
    "div = b / a\n",
    "print(\"Adding 10 and 20 =\", add, \", Dividing 20 by 10 = \", div)"
   ]
  },
  {
   "cell_type": "code",
   "execution_count": 5,
   "id": "ed8196dd",
   "metadata": {},
   "outputs": [
    {
     "name": "stdout",
     "output_type": "stream",
     "text": [
      "50.0\n"
     ]
    }
   ],
   "source": [
    "# Ans3.\n",
    "base = 10\n",
    "height = 10\n",
    "area = base*height/2\n",
    "print(area)"
   ]
  },
  {
   "cell_type": "code",
   "execution_count": 9,
   "id": "5662dcf4",
   "metadata": {},
   "outputs": [
    {
     "name": "stdout",
     "output_type": "stream",
     "text": [
      "Before Swap\n",
      "x =  10 , y =  20\n",
      "After Swap\n",
      "x =  20 , y =  10\n"
     ]
    }
   ],
   "source": [
    "# Ans4. \n",
    "x = 10\n",
    "y = 20\n",
    "print(\"Before Swap\")\n",
    "print(\"x = \",x,\", y = \",y)\n",
    "x,y = y,x\n",
    "print(\"After Swap\")\n",
    "print(\"x = \",x,\", y = \",y)"
   ]
  },
  {
   "cell_type": "code",
   "execution_count": 12,
   "id": "a9eb8aeb",
   "metadata": {},
   "outputs": [
    {
     "name": "stdout",
     "output_type": "stream",
     "text": [
      "71\n"
     ]
    }
   ],
   "source": [
    "# Ans5.\n",
    "import random\n",
    "number = random.randint(0,100)\n",
    "print(number)"
   ]
  }
 ],
 "metadata": {
  "kernelspec": {
   "display_name": "Python 3 (ipykernel)",
   "language": "python",
   "name": "python3"
  },
  "language_info": {
   "codemirror_mode": {
    "name": "ipython",
    "version": 3
   },
   "file_extension": ".py",
   "mimetype": "text/x-python",
   "name": "python",
   "nbconvert_exporter": "python",
   "pygments_lexer": "ipython3",
   "version": "3.9.12"
  }
 },
 "nbformat": 4,
 "nbformat_minor": 5
}
