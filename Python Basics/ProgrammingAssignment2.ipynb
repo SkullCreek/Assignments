{
 "cells": [
  {
   "cell_type": "code",
   "execution_count": 10,
   "id": "39d608c7",
   "metadata": {},
   "outputs": [
    {
     "name": "stdout",
     "output_type": "stream",
     "text": [
      "Enter Kilometers :9\n",
      "9 km is equal to  5.59233 miles\n"
     ]
    }
   ],
   "source": [
    "# Ans1\n",
    "km = int(input(\"Enter Kilometers :\"))\n",
    "mi = 0.62137*km\n",
    "print(km,\"km is equal to \",mi,\"miles\")"
   ]
  },
  {
   "cell_type": "code",
   "execution_count": 12,
   "id": "b7cc9d46",
   "metadata": {},
   "outputs": [
    {
     "name": "stdout",
     "output_type": "stream",
     "text": [
      "Enter Celsius: 10\n",
      "50.0\n"
     ]
    }
   ],
   "source": [
    "# Ans2\n",
    "c = int(input(\"Enter Celsius: \"))\n",
    "f = (c*(9/5))+32\n",
    "print(f)"
   ]
  },
  {
   "cell_type": "code",
   "execution_count": 17,
   "id": "31f5df37",
   "metadata": {},
   "outputs": [
    {
     "name": "stdout",
     "output_type": "stream",
     "text": [
      "                      August 2022\n",
      "  Mon     Tue     Wed     Thu     Fri     Sat     Sun\n",
      "    1       2       3       4       5       6       7\n",
      "    8       9      10      11      12      13      14\n",
      "   15      16      17      18      19      20      21\n",
      "   22      23      24      25      26      27      28\n",
      "   29      30      31\n",
      "\n"
     ]
    }
   ],
   "source": [
    "# Ans3\n",
    "import calendar\n",
    "y = 2022\n",
    "m = 8\n",
    "d = 7\n",
    "print(calendar.month(y,m,d))"
   ]
  },
  {
   "cell_type": "code",
   "execution_count": 6,
   "id": "b84831b0",
   "metadata": {},
   "outputs": [
    {
     "name": "stdout",
     "output_type": "stream",
     "text": [
      "-1.0   -1.0\n"
     ]
    }
   ],
   "source": [
    "# Ans 4\n",
    "import math\n",
    "a = 1\n",
    "b = 2\n",
    "c = 1\n",
    "d = (b**2) - (4*a*c)\n",
    "x1 = (-b-math.sqrt(d))/(2*a)\n",
    "x2 = (-b+math.sqrt(d))/(2*a)\n",
    "print(x1,\" \", x2)"
   ]
  },
  {
   "cell_type": "code",
   "execution_count": 8,
   "id": "a0323a1c",
   "metadata": {},
   "outputs": [
    {
     "name": "stdout",
     "output_type": "stream",
     "text": [
      "3   2\n"
     ]
    }
   ],
   "source": [
    "# Ans5\n",
    "a = 2\n",
    "b = 3\n",
    "a,b = b,a\n",
    "print(a,\" \",b)"
   ]
  },
  {
   "cell_type": "code",
   "execution_count": null,
   "id": "54fafb77",
   "metadata": {},
   "outputs": [],
   "source": []
  }
 ],
 "metadata": {
  "kernelspec": {
   "display_name": "Python 3 (ipykernel)",
   "language": "python",
   "name": "python3"
  },
  "language_info": {
   "codemirror_mode": {
    "name": "ipython",
    "version": 3
   },
   "file_extension": ".py",
   "mimetype": "text/x-python",
   "name": "python",
   "nbconvert_exporter": "python",
   "pygments_lexer": "ipython3",
   "version": "3.9.12"
  }
 },
 "nbformat": 4,
 "nbformat_minor": 5
}
