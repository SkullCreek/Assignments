{
 "cells": [
  {
   "cell_type": "code",
   "execution_count": 1,
   "id": "9b7759a6",
   "metadata": {},
   "outputs": [],
   "source": [
    "# Ans1. Red-Green-Blue-Alpha"
   ]
  },
  {
   "cell_type": "code",
   "execution_count": 2,
   "id": "511581bc",
   "metadata": {},
   "outputs": [],
   "source": [
    "# Ans2.\n",
    "# img = Image.open(‘image.png’)\n",
    "# rgba = img.convert(“RGBA”)\n",
    "# datas = rgba.getdata()"
   ]
  },
  {
   "cell_type": "markdown",
   "id": "fec5e60b",
   "metadata": {},
   "source": [
    "Ans3.\n",
    "A box tuple is a data structure that combines the properties of a tuple and a box. In Python, a tuple is an immutable sequence type, which means that the elements of a tuple cannot be modified once they are created. A box is a container that can hold a single value, and it can be modified after it is created."
   ]
  },
  {
   "cell_type": "markdown",
   "id": "f588028b",
   "metadata": {},
   "source": [
    "Ans4. with the help of pillow ,module we can write this, width = img.width and height = img.height to find hight and width."
   ]
  },
  {
   "cell_type": "code",
   "execution_count": 4,
   "id": "3b97531b",
   "metadata": {
    "scrolled": false
   },
   "outputs": [],
   "source": [
    "# Ans5. \n",
    "# from PIL import Image\n",
    "# import numpy as np      \n",
    "\n",
    "# img = Image.open(r\"IMAGE_PATH\").convert('RGB')\n",
    "# img_arr = np.array(img)\n",
    "# img_arr[0 : 400, 0 : 400] = (0, 0, 0)\n",
    "# img = Image.fromarray(img_arr)\n",
    "# img.show()"
   ]
  },
  {
   "cell_type": "markdown",
   "id": "6a5342fd",
   "metadata": {},
   "source": [
    "Ans6. through img.save(\"darpan.jpg\") method"
   ]
  },
  {
   "cell_type": "markdown",
   "id": "0dfc3f62",
   "metadata": {},
   "source": [
    "Ans7. The 'ImageDraw' module provides simple 2D graphics support for Image Object."
   ]
  },
  {
   "cell_type": "markdown",
   "id": "a85b121b",
   "metadata": {},
   "source": [
    "Ans8. Image objects do not have drawing methods because they are simply representations of image data and do not have the ability to draw or render graphics. To draw graphics or perform other operations on images, you will need to use a different kind of object, such as a Canvas or a Draw object."
   ]
  },
  {
   "cell_type": "code",
   "execution_count": null,
   "id": "6adf44a6",
   "metadata": {},
   "outputs": [],
   "source": []
  }
 ],
 "metadata": {
  "kernelspec": {
   "display_name": "Python 3 (ipykernel)",
   "language": "python",
   "name": "python3"
  },
  "language_info": {
   "codemirror_mode": {
    "name": "ipython",
    "version": 3
   },
   "file_extension": ".py",
   "mimetype": "text/x-python",
   "name": "python",
   "nbconvert_exporter": "python",
   "pygments_lexer": "ipython3",
   "version": "3.9.12"
  }
 },
 "nbformat": 4,
 "nbformat_minor": 5
}
